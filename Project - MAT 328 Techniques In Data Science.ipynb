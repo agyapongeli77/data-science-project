{
 "cells": [
  {
   "cell_type": "markdown",
   "metadata": {},
   "source": [
    "# Project - MAT 328 Techniques In Data Science"
   ]
  },
  {
   "cell_type": "markdown",
   "metadata": {},
   "source": [
    "## New York State Tuition Assistance Program (TAP) Grants Data Analysis"
   ]
  },
  {
   "cell_type": "markdown",
   "metadata": {},
   "source": [
    "### 1. Loading and cleaning the data"
   ]
  },
  {
   "cell_type": "code",
   "execution_count": 169,
   "metadata": {},
   "outputs": [],
   "source": [
    "import pandas as pd\n",
    "import numpy as np\n",
    "import matplotlib.pyplot as plt\n",
    "import seaborn as sns"
   ]
  },
  {
   "cell_type": "code",
   "execution_count": 170,
   "metadata": {
    "scrolled": true
   },
   "outputs": [],
   "source": [
    "nys_tap_data = pd.read_csv(\"TAP_Recipients_Dollars_by_College__Sector_Group_and_Level_of_Study.csv\")"
   ]
  },
  {
   "cell_type": "code",
   "execution_count": 171,
   "metadata": {},
   "outputs": [
    {
     "data": {
      "text/html": [
       "<div>\n",
       "<style scoped>\n",
       "    .dataframe tbody tr th:only-of-type {\n",
       "        vertical-align: middle;\n",
       "    }\n",
       "\n",
       "    .dataframe tbody tr th {\n",
       "        vertical-align: top;\n",
       "    }\n",
       "\n",
       "    .dataframe thead th {\n",
       "        text-align: right;\n",
       "    }\n",
       "</style>\n",
       "<table border=\"1\" class=\"dataframe\">\n",
       "  <thead>\n",
       "    <tr style=\"text-align: right;\">\n",
       "      <th></th>\n",
       "      <th>Academic Year</th>\n",
       "      <th>TAP College Code</th>\n",
       "      <th>Federal School Code</th>\n",
       "      <th>Level</th>\n",
       "      <th>TAP Level of Study</th>\n",
       "      <th>TAP College Name</th>\n",
       "      <th>Sector Type</th>\n",
       "      <th>TAP Sector Group</th>\n",
       "      <th>TAP Recipient Headcount</th>\n",
       "      <th>TAP Recipient FTEs</th>\n",
       "      <th>TAP Recipient Dollars</th>\n",
       "    </tr>\n",
       "  </thead>\n",
       "  <tbody>\n",
       "    <tr>\n",
       "      <th>0</th>\n",
       "      <td>2000</td>\n",
       "      <td>5151</td>\n",
       "      <td>9895</td>\n",
       "      <td>G</td>\n",
       "      <td>Grad</td>\n",
       "      <td>YESHIVA UNIV GRAD/PROFESSIONAL</td>\n",
       "      <td>PRIVATE</td>\n",
       "      <td>5-INDEPENDENT</td>\n",
       "      <td>135</td>\n",
       "      <td>121.00</td>\n",
       "      <td>46715.50</td>\n",
       "    </tr>\n",
       "    <tr>\n",
       "      <th>1</th>\n",
       "      <td>2000</td>\n",
       "      <td>955</td>\n",
       "      <td>2853</td>\n",
       "      <td>U</td>\n",
       "      <td>5 yr Undergrad</td>\n",
       "      <td>SUNY MARITIME COLLEGE</td>\n",
       "      <td>PUBLIC</td>\n",
       "      <td>3-SUNY SO</td>\n",
       "      <td>5</td>\n",
       "      <td>4.00</td>\n",
       "      <td>12420.00</td>\n",
       "    </tr>\n",
       "    <tr>\n",
       "      <th>2</th>\n",
       "      <td>2000</td>\n",
       "      <td>5142</td>\n",
       "      <td>2894</td>\n",
       "      <td>G</td>\n",
       "      <td>Grad</td>\n",
       "      <td>UNIV OF ROCHESTER SIMON SCH BUS</td>\n",
       "      <td>PRIVATE</td>\n",
       "      <td>5-INDEPENDENT</td>\n",
       "      <td>11</td>\n",
       "      <td>6.67</td>\n",
       "      <td>3495.28</td>\n",
       "    </tr>\n",
       "    <tr>\n",
       "      <th>3</th>\n",
       "      <td>2000</td>\n",
       "      <td>5141</td>\n",
       "      <td>4828</td>\n",
       "      <td>G</td>\n",
       "      <td>Grad</td>\n",
       "      <td>UNIV OF ROCHESTER EASTMAN GRAD</td>\n",
       "      <td>PRIVATE</td>\n",
       "      <td>5-INDEPENDENT</td>\n",
       "      <td>9</td>\n",
       "      <td>6.75</td>\n",
       "      <td>1229.75</td>\n",
       "    </tr>\n",
       "    <tr>\n",
       "      <th>4</th>\n",
       "      <td>2000</td>\n",
       "      <td>535</td>\n",
       "      <td>20662</td>\n",
       "      <td>U</td>\n",
       "      <td>2 yr Undergrad</td>\n",
       "      <td>THE NEW SCHOOL 4YR UNDERGRAD</td>\n",
       "      <td>PRIVATE</td>\n",
       "      <td>5-INDEPENDENT</td>\n",
       "      <td>15</td>\n",
       "      <td>13.75</td>\n",
       "      <td>39434.75</td>\n",
       "    </tr>\n",
       "  </tbody>\n",
       "</table>\n",
       "</div>"
      ],
      "text/plain": [
       "   Academic Year  TAP College Code  Federal School Code Level  \\\n",
       "0           2000              5151                 9895     G   \n",
       "1           2000               955                 2853     U   \n",
       "2           2000              5142                 2894     G   \n",
       "3           2000              5141                 4828     G   \n",
       "4           2000               535                20662     U   \n",
       "\n",
       "  TAP Level of Study                 TAP College Name Sector Type  \\\n",
       "0               Grad   YESHIVA UNIV GRAD/PROFESSIONAL     PRIVATE   \n",
       "1     5 yr Undergrad            SUNY MARITIME COLLEGE      PUBLIC   \n",
       "2               Grad  UNIV OF ROCHESTER SIMON SCH BUS     PRIVATE   \n",
       "3               Grad   UNIV OF ROCHESTER EASTMAN GRAD     PRIVATE   \n",
       "4     2 yr Undergrad     THE NEW SCHOOL 4YR UNDERGRAD     PRIVATE   \n",
       "\n",
       "  TAP Sector Group  TAP Recipient Headcount  TAP Recipient FTEs  \\\n",
       "0    5-INDEPENDENT                      135              121.00   \n",
       "1        3-SUNY SO                        5                4.00   \n",
       "2    5-INDEPENDENT                       11                6.67   \n",
       "3    5-INDEPENDENT                        9                6.75   \n",
       "4    5-INDEPENDENT                       15               13.75   \n",
       "\n",
       "   TAP Recipient Dollars  \n",
       "0               46715.50  \n",
       "1               12420.00  \n",
       "2                3495.28  \n",
       "3                1229.75  \n",
       "4               39434.75  "
      ]
     },
     "execution_count": 171,
     "metadata": {},
     "output_type": "execute_result"
    }
   ],
   "source": [
    "nys_tap_data.head()"
   ]
  },
  {
   "cell_type": "code",
   "execution_count": 172,
   "metadata": {},
   "outputs": [
    {
     "data": {
      "text/plain": [
       "10664"
      ]
     },
     "execution_count": 172,
     "metadata": {},
     "output_type": "execute_result"
    }
   ],
   "source": [
    "# Number of rows in the dataset\n",
    "len(nys_tap_data)"
   ]
  },
  {
   "cell_type": "code",
   "execution_count": 173,
   "metadata": {},
   "outputs": [
    {
     "data": {
      "text/html": [
       "<div>\n",
       "<style scoped>\n",
       "    .dataframe tbody tr th:only-of-type {\n",
       "        vertical-align: middle;\n",
       "    }\n",
       "\n",
       "    .dataframe tbody tr th {\n",
       "        vertical-align: top;\n",
       "    }\n",
       "\n",
       "    .dataframe thead th {\n",
       "        text-align: right;\n",
       "    }\n",
       "</style>\n",
       "<table border=\"1\" class=\"dataframe\">\n",
       "  <thead>\n",
       "    <tr style=\"text-align: right;\">\n",
       "      <th></th>\n",
       "      <th>Academic Year</th>\n",
       "      <th>TAP College Code</th>\n",
       "      <th>Federal School Code</th>\n",
       "      <th>Level</th>\n",
       "      <th>TAP Level of Study</th>\n",
       "      <th>TAP College Name</th>\n",
       "      <th>Sector Type</th>\n",
       "      <th>TAP Sector Group</th>\n",
       "      <th>TAP Recipient Headcount</th>\n",
       "      <th>TAP Recipient FTEs</th>\n",
       "      <th>TAP Recipient Dollars</th>\n",
       "    </tr>\n",
       "  </thead>\n",
       "  <tbody>\n",
       "    <tr>\n",
       "      <th>6239</th>\n",
       "      <td>2010</td>\n",
       "      <td>1405</td>\n",
       "      <td>2696</td>\n",
       "      <td>U</td>\n",
       "      <td>5 yr Undergrad</td>\n",
       "      <td>CUNY NYC COLLEGE OF TECHNOLOGY</td>\n",
       "      <td>PUBLIC</td>\n",
       "      <td>1-CUNY SR</td>\n",
       "      <td>39</td>\n",
       "      <td>26.42</td>\n",
       "      <td>107197.83</td>\n",
       "    </tr>\n",
       "    <tr>\n",
       "      <th>6240</th>\n",
       "      <td>2010</td>\n",
       "      <td>1404</td>\n",
       "      <td>2691</td>\n",
       "      <td>U</td>\n",
       "      <td>2 yr Undergrad</td>\n",
       "      <td>CUNY MANHATTAN CC</td>\n",
       "      <td>PUBLIC</td>\n",
       "      <td>2-CUNY CC</td>\n",
       "      <td>9336</td>\n",
       "      <td>6341.38</td>\n",
       "      <td>15492174.65</td>\n",
       "    </tr>\n",
       "    <tr>\n",
       "      <th>6241</th>\n",
       "      <td>2010</td>\n",
       "      <td>1412</td>\n",
       "      <td>7022</td>\n",
       "      <td>U</td>\n",
       "      <td>4 yr Undergrad</td>\n",
       "      <td>CUNY HERBERT H LEHMAN COLLEGE</td>\n",
       "      <td>PUBLIC</td>\n",
       "      <td>1-CUNY SR</td>\n",
       "      <td>4269</td>\n",
       "      <td>3277.46</td>\n",
       "      <td>11229297.87</td>\n",
       "    </tr>\n",
       "    <tr>\n",
       "      <th>6242</th>\n",
       "      <td>2010</td>\n",
       "      <td>1415</td>\n",
       "      <td>10097</td>\n",
       "      <td>U</td>\n",
       "      <td>4 yr Undergrad</td>\n",
       "      <td>CUNY MEDGER EVERS COLLEGE</td>\n",
       "      <td>PUBLIC</td>\n",
       "      <td>1-CUNY SR</td>\n",
       "      <td>1675</td>\n",
       "      <td>1223.67</td>\n",
       "      <td>4302152.72</td>\n",
       "    </tr>\n",
       "    <tr>\n",
       "      <th>6243</th>\n",
       "      <td>2010</td>\n",
       "      <td>1414</td>\n",
       "      <td>2693</td>\n",
       "      <td>U</td>\n",
       "      <td>2 yr Undergrad</td>\n",
       "      <td>CUNY JOHN JAY COLLEGE</td>\n",
       "      <td>PUBLIC</td>\n",
       "      <td>1-CUNY SR</td>\n",
       "      <td>565</td>\n",
       "      <td>375.42</td>\n",
       "      <td>1335536.61</td>\n",
       "    </tr>\n",
       "  </tbody>\n",
       "</table>\n",
       "</div>"
      ],
      "text/plain": [
       "      Academic Year  TAP College Code  Federal School Code Level  \\\n",
       "6239           2010              1405                 2696     U   \n",
       "6240           2010              1404                 2691     U   \n",
       "6241           2010              1412                 7022     U   \n",
       "6242           2010              1415                10097     U   \n",
       "6243           2010              1414                 2693     U   \n",
       "\n",
       "     TAP Level of Study                TAP College Name Sector Type  \\\n",
       "6239     5 yr Undergrad  CUNY NYC COLLEGE OF TECHNOLOGY      PUBLIC   \n",
       "6240     2 yr Undergrad               CUNY MANHATTAN CC      PUBLIC   \n",
       "6241     4 yr Undergrad   CUNY HERBERT H LEHMAN COLLEGE      PUBLIC   \n",
       "6242     4 yr Undergrad       CUNY MEDGER EVERS COLLEGE      PUBLIC   \n",
       "6243     2 yr Undergrad           CUNY JOHN JAY COLLEGE      PUBLIC   \n",
       "\n",
       "     TAP Sector Group  TAP Recipient Headcount  TAP Recipient FTEs  \\\n",
       "6239        1-CUNY SR                       39               26.42   \n",
       "6240        2-CUNY CC                     9336             6341.38   \n",
       "6241        1-CUNY SR                     4269             3277.46   \n",
       "6242        1-CUNY SR                     1675             1223.67   \n",
       "6243        1-CUNY SR                      565              375.42   \n",
       "\n",
       "      TAP Recipient Dollars  \n",
       "6239              107197.83  \n",
       "6240            15492174.65  \n",
       "6241            11229297.87  \n",
       "6242             4302152.72  \n",
       "6243             1335536.61  "
      ]
     },
     "execution_count": 173,
     "metadata": {},
     "output_type": "execute_result"
    }
   ],
   "source": [
    "# Filter the dataframe to include only CUNY Colleges from 2010 to 2019 Academic Year \n",
    "\n",
    "cuny_tap_data = nys_tap_data[(nys_tap_data[\"Academic Year\"] >= 2010) \n",
    "                            & ((nys_tap_data[\"TAP Sector Group\"] == \"1-CUNY SR\")\n",
    "                            | (nys_tap_data[\"TAP Sector Group\"] == \"2-CUNY CC\"))]\n",
    "cuny_tap_data.head()"
   ]
  },
  {
   "cell_type": "code",
   "execution_count": 174,
   "metadata": {},
   "outputs": [],
   "source": [
    "# Drop the Sector Type column because we know CUNY Colleges are public colleges\n",
    "# Drop the Level, TAP College Code and Federal School code columns because it's not useful in this analysis\n",
    "cuny_tap_data = cuny_tap_data.drop(columns = [\"TAP College Code\", \"Federal School Code\", \"Level\", \"Sector Type\"])"
   ]
  },
  {
   "cell_type": "code",
   "execution_count": 175,
   "metadata": {},
   "outputs": [
    {
     "data": {
      "text/html": [
       "<div>\n",
       "<style scoped>\n",
       "    .dataframe tbody tr th:only-of-type {\n",
       "        vertical-align: middle;\n",
       "    }\n",
       "\n",
       "    .dataframe tbody tr th {\n",
       "        vertical-align: top;\n",
       "    }\n",
       "\n",
       "    .dataframe thead th {\n",
       "        text-align: right;\n",
       "    }\n",
       "</style>\n",
       "<table border=\"1\" class=\"dataframe\">\n",
       "  <thead>\n",
       "    <tr style=\"text-align: right;\">\n",
       "      <th></th>\n",
       "      <th>Academic Year</th>\n",
       "      <th>TAP Level of Study</th>\n",
       "      <th>TAP College Name</th>\n",
       "      <th>TAP Sector Group</th>\n",
       "      <th>TAP Recipient Headcount</th>\n",
       "      <th>TAP Recipient FTEs</th>\n",
       "      <th>TAP Recipient Dollars</th>\n",
       "    </tr>\n",
       "  </thead>\n",
       "  <tbody>\n",
       "    <tr>\n",
       "      <th>6239</th>\n",
       "      <td>2010</td>\n",
       "      <td>5 yr Undergrad</td>\n",
       "      <td>CUNY NYC COLLEGE OF TECHNOLOGY</td>\n",
       "      <td>1-CUNY SR</td>\n",
       "      <td>39</td>\n",
       "      <td>26.42</td>\n",
       "      <td>107197.83</td>\n",
       "    </tr>\n",
       "    <tr>\n",
       "      <th>6240</th>\n",
       "      <td>2010</td>\n",
       "      <td>2 yr Undergrad</td>\n",
       "      <td>CUNY MANHATTAN CC</td>\n",
       "      <td>2-CUNY CC</td>\n",
       "      <td>9336</td>\n",
       "      <td>6341.38</td>\n",
       "      <td>15492174.65</td>\n",
       "    </tr>\n",
       "    <tr>\n",
       "      <th>6241</th>\n",
       "      <td>2010</td>\n",
       "      <td>4 yr Undergrad</td>\n",
       "      <td>CUNY HERBERT H LEHMAN COLLEGE</td>\n",
       "      <td>1-CUNY SR</td>\n",
       "      <td>4269</td>\n",
       "      <td>3277.46</td>\n",
       "      <td>11229297.87</td>\n",
       "    </tr>\n",
       "    <tr>\n",
       "      <th>6242</th>\n",
       "      <td>2010</td>\n",
       "      <td>4 yr Undergrad</td>\n",
       "      <td>CUNY MEDGER EVERS COLLEGE</td>\n",
       "      <td>1-CUNY SR</td>\n",
       "      <td>1675</td>\n",
       "      <td>1223.67</td>\n",
       "      <td>4302152.72</td>\n",
       "    </tr>\n",
       "    <tr>\n",
       "      <th>6243</th>\n",
       "      <td>2010</td>\n",
       "      <td>2 yr Undergrad</td>\n",
       "      <td>CUNY JOHN JAY COLLEGE</td>\n",
       "      <td>1-CUNY SR</td>\n",
       "      <td>565</td>\n",
       "      <td>375.42</td>\n",
       "      <td>1335536.61</td>\n",
       "    </tr>\n",
       "  </tbody>\n",
       "</table>\n",
       "</div>"
      ],
      "text/plain": [
       "      Academic Year TAP Level of Study                TAP College Name  \\\n",
       "6239           2010     5 yr Undergrad  CUNY NYC COLLEGE OF TECHNOLOGY   \n",
       "6240           2010     2 yr Undergrad               CUNY MANHATTAN CC   \n",
       "6241           2010     4 yr Undergrad   CUNY HERBERT H LEHMAN COLLEGE   \n",
       "6242           2010     4 yr Undergrad       CUNY MEDGER EVERS COLLEGE   \n",
       "6243           2010     2 yr Undergrad           CUNY JOHN JAY COLLEGE   \n",
       "\n",
       "     TAP Sector Group  TAP Recipient Headcount  TAP Recipient FTEs  \\\n",
       "6239        1-CUNY SR                       39               26.42   \n",
       "6240        2-CUNY CC                     9336             6341.38   \n",
       "6241        1-CUNY SR                     4269             3277.46   \n",
       "6242        1-CUNY SR                     1675             1223.67   \n",
       "6243        1-CUNY SR                      565              375.42   \n",
       "\n",
       "      TAP Recipient Dollars  \n",
       "6239              107197.83  \n",
       "6240            15492174.65  \n",
       "6241            11229297.87  \n",
       "6242             4302152.72  \n",
       "6243             1335536.61  "
      ]
     },
     "execution_count": 175,
     "metadata": {},
     "output_type": "execute_result"
    }
   ],
   "source": [
    "cuny_tap_data.head()"
   ]
  },
  {
   "cell_type": "code",
   "execution_count": 176,
   "metadata": {},
   "outputs": [],
   "source": [
    "# Drop all the rows in the dataset with the College Names ('CUNY GRAD SCH UNDERGRAD PROG' \n",
    "# and 'CUNY GRAD CTR-SCHOL OF LABOR UG') because we want to analyze TAP grants awarded to\n",
    "# to CUNY Senior Colleges and Community Colleges\n",
    "\n",
    "cuny_tap_data = cuny_tap_data[(cuny_tap_data[\"TAP College Name\"] != \"CUNY GRAD SCH UNDERGRAD PROG\") \n",
    "                             & (cuny_tap_data[\"TAP College Name\"] != \"CUNY GRAD CTR-SCHOL OF LABOR UG\")]"
   ]
  },
  {
   "cell_type": "code",
   "execution_count": 177,
   "metadata": {},
   "outputs": [],
   "source": [
    "# Remove rows with CUNY Community Colleges having 5 year programs. I believe this is\n",
    "# an error in the dataset because CUNY Community Colleges do not have 5 year programs\n",
    "cuny_tap_data = cuny_tap_data[(cuny_tap_data[\"TAP Sector Group\"] == \"1-CUNY SR\") \n",
    "                                 | ((cuny_tap_data[\"TAP Sector Group\"] == \"2-CUNY CC\") \n",
    "                                 & ((cuny_tap_data[\"TAP Level of Study\"] != \"4 yr Undergrad\")\n",
    "                                 & (cuny_tap_data[\"TAP Level of Study\"] != \"5 yr Undergrad\")))]"
   ]
  },
  {
   "cell_type": "code",
   "execution_count": 178,
   "metadata": {},
   "outputs": [
    {
     "data": {
      "text/plain": [
       "326"
      ]
     },
     "execution_count": 178,
     "metadata": {},
     "output_type": "execute_result"
    }
   ],
   "source": [
    "len(cuny_tap_data)"
   ]
  },
  {
   "cell_type": "code",
   "execution_count": 179,
   "metadata": {},
   "outputs": [],
   "source": [
    "# Make the TAP College Name the very first column in the dataframe\n",
    "\n",
    "college_name_column = cuny_tap_data[\"TAP College Name\"]\n",
    "cuny_tap_data.drop(columns = [\"TAP College Name\"], inplace = True)\n",
    "cuny_tap_data.insert(0, \"TAP College Name\", college_name_column)"
   ]
  },
  {
   "cell_type": "code",
   "execution_count": 180,
   "metadata": {},
   "outputs": [
    {
     "data": {
      "text/html": [
       "<div>\n",
       "<style scoped>\n",
       "    .dataframe tbody tr th:only-of-type {\n",
       "        vertical-align: middle;\n",
       "    }\n",
       "\n",
       "    .dataframe tbody tr th {\n",
       "        vertical-align: top;\n",
       "    }\n",
       "\n",
       "    .dataframe thead th {\n",
       "        text-align: right;\n",
       "    }\n",
       "</style>\n",
       "<table border=\"1\" class=\"dataframe\">\n",
       "  <thead>\n",
       "    <tr style=\"text-align: right;\">\n",
       "      <th></th>\n",
       "      <th>TAP College Name</th>\n",
       "      <th>Academic Year</th>\n",
       "      <th>TAP Level of Study</th>\n",
       "      <th>TAP Sector Group</th>\n",
       "      <th>TAP Recipient Headcount</th>\n",
       "      <th>TAP Recipient FTEs</th>\n",
       "      <th>TAP Recipient Dollars</th>\n",
       "    </tr>\n",
       "  </thead>\n",
       "  <tbody>\n",
       "    <tr>\n",
       "      <th>6239</th>\n",
       "      <td>CUNY NYC COLLEGE OF TECHNOLOGY</td>\n",
       "      <td>2010</td>\n",
       "      <td>5 yr Undergrad</td>\n",
       "      <td>1-CUNY SR</td>\n",
       "      <td>39</td>\n",
       "      <td>26.42</td>\n",
       "      <td>107197.83</td>\n",
       "    </tr>\n",
       "    <tr>\n",
       "      <th>6240</th>\n",
       "      <td>CUNY MANHATTAN CC</td>\n",
       "      <td>2010</td>\n",
       "      <td>2 yr Undergrad</td>\n",
       "      <td>2-CUNY CC</td>\n",
       "      <td>9336</td>\n",
       "      <td>6341.38</td>\n",
       "      <td>15492174.65</td>\n",
       "    </tr>\n",
       "    <tr>\n",
       "      <th>6241</th>\n",
       "      <td>CUNY HERBERT H LEHMAN COLLEGE</td>\n",
       "      <td>2010</td>\n",
       "      <td>4 yr Undergrad</td>\n",
       "      <td>1-CUNY SR</td>\n",
       "      <td>4269</td>\n",
       "      <td>3277.46</td>\n",
       "      <td>11229297.87</td>\n",
       "    </tr>\n",
       "    <tr>\n",
       "      <th>6242</th>\n",
       "      <td>CUNY MEDGER EVERS COLLEGE</td>\n",
       "      <td>2010</td>\n",
       "      <td>4 yr Undergrad</td>\n",
       "      <td>1-CUNY SR</td>\n",
       "      <td>1675</td>\n",
       "      <td>1223.67</td>\n",
       "      <td>4302152.72</td>\n",
       "    </tr>\n",
       "    <tr>\n",
       "      <th>6243</th>\n",
       "      <td>CUNY JOHN JAY COLLEGE</td>\n",
       "      <td>2010</td>\n",
       "      <td>2 yr Undergrad</td>\n",
       "      <td>1-CUNY SR</td>\n",
       "      <td>565</td>\n",
       "      <td>375.42</td>\n",
       "      <td>1335536.61</td>\n",
       "    </tr>\n",
       "  </tbody>\n",
       "</table>\n",
       "</div>"
      ],
      "text/plain": [
       "                    TAP College Name  Academic Year TAP Level of Study  \\\n",
       "6239  CUNY NYC COLLEGE OF TECHNOLOGY           2010     5 yr Undergrad   \n",
       "6240               CUNY MANHATTAN CC           2010     2 yr Undergrad   \n",
       "6241   CUNY HERBERT H LEHMAN COLLEGE           2010     4 yr Undergrad   \n",
       "6242       CUNY MEDGER EVERS COLLEGE           2010     4 yr Undergrad   \n",
       "6243           CUNY JOHN JAY COLLEGE           2010     2 yr Undergrad   \n",
       "\n",
       "     TAP Sector Group  TAP Recipient Headcount  TAP Recipient FTEs  \\\n",
       "6239        1-CUNY SR                       39               26.42   \n",
       "6240        2-CUNY CC                     9336             6341.38   \n",
       "6241        1-CUNY SR                     4269             3277.46   \n",
       "6242        1-CUNY SR                     1675             1223.67   \n",
       "6243        1-CUNY SR                      565              375.42   \n",
       "\n",
       "      TAP Recipient Dollars  \n",
       "6239              107197.83  \n",
       "6240            15492174.65  \n",
       "6241            11229297.87  \n",
       "6242             4302152.72  \n",
       "6243             1335536.61  "
      ]
     },
     "execution_count": 180,
     "metadata": {},
     "output_type": "execute_result"
    }
   ],
   "source": [
    "cuny_tap_data.head()"
   ]
  },
  {
   "cell_type": "code",
   "execution_count": 181,
   "metadata": {},
   "outputs": [
    {
     "data": {
      "text/html": [
       "<div>\n",
       "<style scoped>\n",
       "    .dataframe tbody tr th:only-of-type {\n",
       "        vertical-align: middle;\n",
       "    }\n",
       "\n",
       "    .dataframe tbody tr th {\n",
       "        vertical-align: top;\n",
       "    }\n",
       "\n",
       "    .dataframe thead th {\n",
       "        text-align: right;\n",
       "    }\n",
       "</style>\n",
       "<table border=\"1\" class=\"dataframe\">\n",
       "  <thead>\n",
       "    <tr style=\"text-align: right;\">\n",
       "      <th></th>\n",
       "      <th>TAP College Name</th>\n",
       "      <th>Academic Year</th>\n",
       "      <th>TAP Level of Study</th>\n",
       "      <th>TAP Sector Group</th>\n",
       "      <th>TAP Recipient Headcount</th>\n",
       "      <th>TAP Recipient FTEs</th>\n",
       "      <th>TAP Recipient Dollars</th>\n",
       "    </tr>\n",
       "  </thead>\n",
       "  <tbody>\n",
       "    <tr>\n",
       "      <th>0</th>\n",
       "      <td>CUNY BARUCH COLLEGE</td>\n",
       "      <td>2010</td>\n",
       "      <td>5 yr Undergrad</td>\n",
       "      <td>1-CUNY SR</td>\n",
       "      <td>105</td>\n",
       "      <td>72.75</td>\n",
       "      <td>304788.75</td>\n",
       "    </tr>\n",
       "    <tr>\n",
       "      <th>1</th>\n",
       "      <td>CUNY BARUCH COLLEGE</td>\n",
       "      <td>2010</td>\n",
       "      <td>4 yr Undergrad</td>\n",
       "      <td>1-CUNY SR</td>\n",
       "      <td>5714</td>\n",
       "      <td>4716.21</td>\n",
       "      <td>15899669.13</td>\n",
       "    </tr>\n",
       "    <tr>\n",
       "      <th>2</th>\n",
       "      <td>CUNY BARUCH COLLEGE</td>\n",
       "      <td>2011</td>\n",
       "      <td>5 yr Undergrad</td>\n",
       "      <td>1-CUNY SR</td>\n",
       "      <td>109</td>\n",
       "      <td>79.75</td>\n",
       "      <td>366793.75</td>\n",
       "    </tr>\n",
       "    <tr>\n",
       "      <th>3</th>\n",
       "      <td>CUNY BARUCH COLLEGE</td>\n",
       "      <td>2011</td>\n",
       "      <td>4 yr Undergrad</td>\n",
       "      <td>1-CUNY SR</td>\n",
       "      <td>5970</td>\n",
       "      <td>5049.04</td>\n",
       "      <td>18694666.97</td>\n",
       "    </tr>\n",
       "    <tr>\n",
       "      <th>4</th>\n",
       "      <td>CUNY BARUCH COLLEGE</td>\n",
       "      <td>2012</td>\n",
       "      <td>5 yr Undergrad</td>\n",
       "      <td>1-CUNY SR</td>\n",
       "      <td>125</td>\n",
       "      <td>85.00</td>\n",
       "      <td>392550.75</td>\n",
       "    </tr>\n",
       "  </tbody>\n",
       "</table>\n",
       "</div>"
      ],
      "text/plain": [
       "      TAP College Name  Academic Year TAP Level of Study TAP Sector Group  \\\n",
       "0  CUNY BARUCH COLLEGE           2010     5 yr Undergrad        1-CUNY SR   \n",
       "1  CUNY BARUCH COLLEGE           2010     4 yr Undergrad        1-CUNY SR   \n",
       "2  CUNY BARUCH COLLEGE           2011     5 yr Undergrad        1-CUNY SR   \n",
       "3  CUNY BARUCH COLLEGE           2011     4 yr Undergrad        1-CUNY SR   \n",
       "4  CUNY BARUCH COLLEGE           2012     5 yr Undergrad        1-CUNY SR   \n",
       "\n",
       "   TAP Recipient Headcount  TAP Recipient FTEs  TAP Recipient Dollars  \n",
       "0                      105               72.75              304788.75  \n",
       "1                     5714             4716.21            15899669.13  \n",
       "2                      109               79.75              366793.75  \n",
       "3                     5970             5049.04            18694666.97  \n",
       "4                      125               85.00              392550.75  "
      ]
     },
     "execution_count": 181,
     "metadata": {},
     "output_type": "execute_result"
    }
   ],
   "source": [
    "# Sort the data by the College Name and Academic Year, and reindex the rows\n",
    "\n",
    "cuny_tap_data = cuny_tap_data.sort_values([\"TAP College Name\", \"Academic Year\"])\n",
    "cuny_tap_data.reset_index(drop = True, inplace = True)\n",
    "cuny_tap_data.head()"
   ]
  },
  {
   "cell_type": "code",
   "execution_count": 223,
   "metadata": {},
   "outputs": [
    {
     "data": {
      "text/html": [
       "<div>\n",
       "<style scoped>\n",
       "    .dataframe tbody tr th:only-of-type {\n",
       "        vertical-align: middle;\n",
       "    }\n",
       "\n",
       "    .dataframe tbody tr th {\n",
       "        vertical-align: top;\n",
       "    }\n",
       "\n",
       "    .dataframe thead th {\n",
       "        text-align: right;\n",
       "    }\n",
       "</style>\n",
       "<table border=\"1\" class=\"dataframe\">\n",
       "  <thead>\n",
       "    <tr style=\"text-align: right;\">\n",
       "      <th></th>\n",
       "      <th>TAP College Name</th>\n",
       "      <th>Academic Year</th>\n",
       "      <th>TAP Level of Study</th>\n",
       "      <th>TAP Sector Group</th>\n",
       "      <th>TAP Recipient Headcount</th>\n",
       "      <th>TAP Recipient FTEs</th>\n",
       "      <th>TAP Recipient Dollars</th>\n",
       "    </tr>\n",
       "  </thead>\n",
       "  <tbody>\n",
       "    <tr>\n",
       "      <th>202</th>\n",
       "      <td>CUNY MANHATTAN CC</td>\n",
       "      <td>2015</td>\n",
       "      <td>2 yr Undergrad</td>\n",
       "      <td>2-CUNY CC</td>\n",
       "      <td>12602</td>\n",
       "      <td>8962.25</td>\n",
       "      <td>33935260.20</td>\n",
       "    </tr>\n",
       "    <tr>\n",
       "      <th>203</th>\n",
       "      <td>CUNY MANHATTAN CC</td>\n",
       "      <td>2016</td>\n",
       "      <td>2 yr Undergrad</td>\n",
       "      <td>2-CUNY CC</td>\n",
       "      <td>12101</td>\n",
       "      <td>8697.00</td>\n",
       "      <td>32618705.31</td>\n",
       "    </tr>\n",
       "    <tr>\n",
       "      <th>204</th>\n",
       "      <td>CUNY MANHATTAN CC</td>\n",
       "      <td>2017</td>\n",
       "      <td>2 yr Undergrad</td>\n",
       "      <td>2-CUNY CC</td>\n",
       "      <td>11895</td>\n",
       "      <td>8569.58</td>\n",
       "      <td>31888202.85</td>\n",
       "    </tr>\n",
       "  </tbody>\n",
       "</table>\n",
       "</div>"
      ],
      "text/plain": [
       "      TAP College Name  Academic Year TAP Level of Study TAP Sector Group  \\\n",
       "202  CUNY MANHATTAN CC           2015     2 yr Undergrad        2-CUNY CC   \n",
       "203  CUNY MANHATTAN CC           2016     2 yr Undergrad        2-CUNY CC   \n",
       "204  CUNY MANHATTAN CC           2017     2 yr Undergrad        2-CUNY CC   \n",
       "\n",
       "     TAP Recipient Headcount  TAP Recipient FTEs  TAP Recipient Dollars  \n",
       "202                    12602             8962.25            33935260.20  \n",
       "203                    12101             8697.00            32618705.31  \n",
       "204                    11895             8569.58            31888202.85  "
      ]
     },
     "execution_count": 223,
     "metadata": {},
     "output_type": "execute_result"
    }
   ],
   "source": [
    "cuny_tap_data[(cuny_tap_data[\"TAP Recipient Dollars\"] >= 30000000)]"
   ]
  },
  {
   "cell_type": "markdown",
   "metadata": {},
   "source": [
    "### 2. Single Variable Distribution Plots"
   ]
  },
  {
   "cell_type": "code",
   "execution_count": 203,
   "metadata": {},
   "outputs": [
    {
     "data": {
      "text/plain": [
       "1       5\n",
       "39      5\n",
       "119     4\n",
       "33      4\n",
       "26      3\n",
       "       ..\n",
       "5401    1\n",
       "16      1\n",
       "5909    1\n",
       "2050    1\n",
       "642     1\n",
       "Name: TAP Recipient Headcount, Length: 286, dtype: int64"
      ]
     },
     "execution_count": 203,
     "metadata": {},
     "output_type": "execute_result"
    }
   ],
   "source": [
    "cuny_tap_data[\"TAP Recipient Headcount\"].value_counts()"
   ]
  },
  {
   "cell_type": "code",
   "execution_count": 200,
   "metadata": {},
   "outputs": [
    {
     "data": {
      "text/plain": [
       "Text(0, 0.5, '# of TAP grants received')"
      ]
     },
     "execution_count": 200,
     "metadata": {},
     "output_type": "execute_result"
    },
    {
     "data": {
      "image/png": "[encoded data removed]",
      "text/plain": [
       "<Figure size 432x288 with 1 Axes>"
      ]
     },
     "metadata": {
      "needs_background": "light"
     },
     "output_type": "display_data"
    }
   ],
   "source": [
    "cuny_tap_data[\"TAP College Name\"].value_counts().plot.bar()\n",
    "plt.title(\"Number of TAP grants received by each CUNY College from 2010 to 2019 Academic Year\")\n",
    "plt.xlabel(\"CUNY Colleges\")\n",
    "plt.ylabel(\"# of TAP grants received\")"
   ]
  },
  {
   "cell_type": "code",
   "execution_count": 183,
   "metadata": {},
   "outputs": [
    {
     "data": {
      "text/plain": [
       "Text(0, 0.5, '# of TAP grants received')"
      ]
     },
     "execution_count": 183,
     "metadata": {},
     "output_type": "execute_result"
    },
    {
     "data": {
      "image/png": "[encoded data removed]",
      "text/plain": [
       "<Figure size 432x288 with 1 Axes>"
      ]
     },
     "metadata": {
      "needs_background": "light"
     },
     "output_type": "display_data"
    }
   ],
   "source": [
    "cuny_tap_data[\"TAP Sector Group\"].value_counts().plot.bar()\n",
    "plt.title(\"Number of TAP grants received by CUNY Senior Colleges & Community Colleges from 2010 to 2019\")\n",
    "plt.xlabel(\"TAP Sector Group (CC - Community College, SR - Senior College)\")\n",
    "plt.ylabel(\"# of TAP grants received\")"
   ]
  },
  {
   "cell_type": "code",
   "execution_count": 184,
   "metadata": {},
   "outputs": [
    {
     "data": {
      "text/plain": [
       "Text(0, 0.5, 'Frequency')"
      ]
     },
     "execution_count": 184,
     "metadata": {},
     "output_type": "execute_result"
    },
    {
     "data": {
      "image/png": "[encoded data removed]",
      "text/plain": [
       "<Figure size 432x288 with 1 Axes>"
      ]
     },
     "metadata": {
      "needs_background": "light"
     },
     "output_type": "display_data"
    }
   ],
   "source": [
    "cuny_tap_data[\"TAP Recipient Headcount\"].hist()\n",
    "plt.title(\"Distribution of recipients (students) of TAP grants (2010-2019)\")\n",
    "plt.xlabel(\"Number of students\")\n",
    "plt.ylabel(\"Frequency\")"
   ]
  },
  {
   "cell_type": "code",
   "execution_count": 230,
   "metadata": {},
   "outputs": [
    {
     "data": {
      "text/plain": [
       "Text(0, 0.5, 'Frequency')"
      ]
     },
     "execution_count": 230,
     "metadata": {},
     "output_type": "execute_result"
    },
    {
     "data": {
      "image/png": "[encoded data removed]",
      "text/plain": [
       "<Figure size 432x288 with 1 Axes>"
      ]
     },
     "metadata": {
      "needs_background": "light"
     },
     "output_type": "display_data"
    }
   ],
   "source": [
    "cuny_tap_data[\"TAP Recipient Dollars\"].hist()\n",
    "plt.title(\"Distribution of TAP dollars awarded to the schools\")\n",
    "plt.xlabel(\"($)TAP Dollars (1e7 means n x 10^7)\")\n",
    "plt.ylabel(\"Frequency\")"
   ]
  },
  {
   "cell_type": "markdown",
   "metadata": {},
   "source": [
    "### 3. Multiple Variable Distribution Plots"
   ]
  },
  {
   "cell_type": "code",
   "execution_count": 233,
   "metadata": {
    "scrolled": false
   },
   "outputs": [
    {
     "data": {
      "text/plain": [
       "Text(0.5, 6.79999999999999, 'Academic Year (2010-2019)')"
      ]
     },
     "execution_count": 233,
     "metadata": {},
     "output_type": "execute_result"
    },
    {
     "data": {
      "image/png": "[encoded data removed]",
      "text/plain": [
       "<Figure size 864x432 with 1 Axes>"
      ]
     },
     "metadata": {
      "needs_background": "light"
     },
     "output_type": "display_data"
    }
   ],
   "source": [
    "# Plot the graph\n",
    "g=sns.relplot(x =\"Academic Year\", y =\"TAP Recipient Dollars\", kind =\"line\", hue =\"TAP Sector Group\", data=cuny_tap_data)\n",
    "\n",
    "# Resize the graph\n",
    "g.fig.set_size_inches(12,6)\n",
    "plt.xticks(rotation=45)\n",
    "\n",
    "# Title and axes labels added to the graph\n",
    "plt.title(\"TAP Amounts received by CUNY Senior Colleges & Community Colleges per year\")\n",
    "plt.ylabel(\"($)TAP Amounts Received(1e7 means n x 10^7)\")\n",
    "plt.xlabel(\"Academic Year (2010-2019)\")"
   ]
  },
  {
   "cell_type": "code",
   "execution_count": 226,
   "metadata": {},
   "outputs": [
    {
     "data": {
      "text/plain": [
       "Text(0.5, 6.79999999999999, 'CUNY College')"
      ]
     },
     "execution_count": 226,
     "metadata": {},
     "output_type": "execute_result"
    },
    {
     "data": {
      "image/png": "[encoded data removed]",
      "text/plain": [
       "<Figure size 1296x432 with 1 Axes>"
      ]
     },
     "metadata": {
      "needs_background": "light"
     },
     "output_type": "display_data"
    }
   ],
   "source": [
    "g=sns.catplot(x=\"TAP College Name\", y =\"TAP Recipient Headcount\", hue =\"TAP Sector Group\", kind =\"bar\", data=cuny_tap_data)\n",
    "\n",
    "# Resize the graph\n",
    "g.fig.set_size_inches(18,6)\n",
    "plt.xticks(rotation=90)\n",
    "\n",
    "# Title and axes labels added to the graph\n",
    "plt.title(\"Number of students who received TAP grants per CUNY College\")\n",
    "plt.ylabel(\"# of TAP Recipients\")\n",
    "plt.xlabel(\"CUNY College\")"
   ]
  },
  {
   "cell_type": "code",
   "execution_count": null,
   "metadata": {},
   "outputs": [],
   "source": []
  },
  {
   "cell_type": "code",
   "execution_count": null,
   "metadata": {},
   "outputs": [],
   "source": []
  }
 ],
 "metadata": {
  "kernelspec": {
   "display_name": "Python 3",
   "language": "python",
   "name": "python3"
  },
  "language_info": {
   "codemirror_mode": {
    "name": "ipython",
    "version": 3
   },
   "file_extension": ".py",
   "mimetype": "text/x-python",
   "name": "python",
   "nbconvert_exporter": "python",
   "pygments_lexer": "ipython3",
   "version": "3.8.5"
  }
 },
 "nbformat": 4,
 "nbformat_minor": 4
}
