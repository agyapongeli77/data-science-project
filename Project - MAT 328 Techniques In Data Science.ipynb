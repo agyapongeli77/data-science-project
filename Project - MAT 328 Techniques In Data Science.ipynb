{
 "cells": [
  {
   "cell_type": "markdown",
   "metadata": {},
   "source": [
    "# Project - MAT 328 Techniques In Data Science"
   ]
  },
  {
   "cell_type": "markdown",
   "metadata": {},
   "source": [
    "## New York State Tuition Assistance Program (TAP) Grants Data Analysis"
   ]
  },
  {
   "cell_type": "markdown",
   "metadata": {},
   "source": [
    "### 1. Loading and cleaning the data"
   ]
  },
  {
   "cell_type": "code",
   "execution_count": 80,
   "metadata": {},
   "outputs": [],
   "source": [
    "import pandas as pd\n",
    "import numpy as np\n",
    "import matplotlib.pyplot as plt\n",
    "import seaborn as sns"
   ]
  },
  {
   "cell_type": "code",
   "execution_count": 81,
   "metadata": {
    "scrolled": true
   },
   "outputs": [],
   "source": [
    "nys_tap_data = pd.read_csv(\"TAP_Recipients_Dollars_by_College__Sector_Group_and_Level_of_Study.csv\")"
   ]
  },
  {
   "cell_type": "code",
   "execution_count": 82,
   "metadata": {},
   "outputs": [
    {
     "data": {
      "text/html": [
       "<div>\n",
       "<style scoped>\n",
       "    .dataframe tbody tr th:only-of-type {\n",
       "        vertical-align: middle;\n",
       "    }\n",
       "\n",
       "    .dataframe tbody tr th {\n",
       "        vertical-align: top;\n",
       "    }\n",
       "\n",
       "    .dataframe thead th {\n",
       "        text-align: right;\n",
       "    }\n",
       "</style>\n",
       "<table border=\"1\" class=\"dataframe\">\n",
       "  <thead>\n",
       "    <tr style=\"text-align: right;\">\n",
       "      <th></th>\n",
       "      <th>Academic Year</th>\n",
       "      <th>TAP College Code</th>\n",
       "      <th>Federal School Code</th>\n",
       "      <th>Level</th>\n",
       "      <th>TAP Level of Study</th>\n",
       "      <th>TAP College Name</th>\n",
       "      <th>Sector Type</th>\n",
       "      <th>TAP Sector Group</th>\n",
       "      <th>TAP Recipient Headcount</th>\n",
       "      <th>TAP Recipient FTEs</th>\n",
       "      <th>TAP Recipient Dollars</th>\n",
       "    </tr>\n",
       "  </thead>\n",
       "  <tbody>\n",
       "    <tr>\n",
       "      <th>0</th>\n",
       "      <td>2000</td>\n",
       "      <td>5151</td>\n",
       "      <td>9895</td>\n",
       "      <td>G</td>\n",
       "      <td>Grad</td>\n",
       "      <td>YESHIVA UNIV GRAD/PROFESSIONAL</td>\n",
       "      <td>PRIVATE</td>\n",
       "      <td>5-INDEPENDENT</td>\n",
       "      <td>135</td>\n",
       "      <td>121.00</td>\n",
       "      <td>46715.50</td>\n",
       "    </tr>\n",
       "    <tr>\n",
       "      <th>1</th>\n",
       "      <td>2000</td>\n",
       "      <td>955</td>\n",
       "      <td>2853</td>\n",
       "      <td>U</td>\n",
       "      <td>5 yr Undergrad</td>\n",
       "      <td>SUNY MARITIME COLLEGE</td>\n",
       "      <td>PUBLIC</td>\n",
       "      <td>3-SUNY SO</td>\n",
       "      <td>5</td>\n",
       "      <td>4.00</td>\n",
       "      <td>12420.00</td>\n",
       "    </tr>\n",
       "    <tr>\n",
       "      <th>2</th>\n",
       "      <td>2000</td>\n",
       "      <td>5142</td>\n",
       "      <td>2894</td>\n",
       "      <td>G</td>\n",
       "      <td>Grad</td>\n",
       "      <td>UNIV OF ROCHESTER SIMON SCH BUS</td>\n",
       "      <td>PRIVATE</td>\n",
       "      <td>5-INDEPENDENT</td>\n",
       "      <td>11</td>\n",
       "      <td>6.67</td>\n",
       "      <td>3495.28</td>\n",
       "    </tr>\n",
       "    <tr>\n",
       "      <th>3</th>\n",
       "      <td>2000</td>\n",
       "      <td>5141</td>\n",
       "      <td>4828</td>\n",
       "      <td>G</td>\n",
       "      <td>Grad</td>\n",
       "      <td>UNIV OF ROCHESTER EASTMAN GRAD</td>\n",
       "      <td>PRIVATE</td>\n",
       "      <td>5-INDEPENDENT</td>\n",
       "      <td>9</td>\n",
       "      <td>6.75</td>\n",
       "      <td>1229.75</td>\n",
       "    </tr>\n",
       "    <tr>\n",
       "      <th>4</th>\n",
       "      <td>2000</td>\n",
       "      <td>535</td>\n",
       "      <td>20662</td>\n",
       "      <td>U</td>\n",
       "      <td>2 yr Undergrad</td>\n",
       "      <td>THE NEW SCHOOL 4YR UNDERGRAD</td>\n",
       "      <td>PRIVATE</td>\n",
       "      <td>5-INDEPENDENT</td>\n",
       "      <td>15</td>\n",
       "      <td>13.75</td>\n",
       "      <td>39434.75</td>\n",
       "    </tr>\n",
       "  </tbody>\n",
       "</table>\n",
       "</div>"
      ],
      "text/plain": [
       "   Academic Year  TAP College Code  Federal School Code Level  \\\n",
       "0           2000              5151                 9895     G   \n",
       "1           2000               955                 2853     U   \n",
       "2           2000              5142                 2894     G   \n",
       "3           2000              5141                 4828     G   \n",
       "4           2000               535                20662     U   \n",
       "\n",
       "  TAP Level of Study                 TAP College Name Sector Type  \\\n",
       "0               Grad   YESHIVA UNIV GRAD/PROFESSIONAL     PRIVATE   \n",
       "1     5 yr Undergrad            SUNY MARITIME COLLEGE      PUBLIC   \n",
       "2               Grad  UNIV OF ROCHESTER SIMON SCH BUS     PRIVATE   \n",
       "3               Grad   UNIV OF ROCHESTER EASTMAN GRAD     PRIVATE   \n",
       "4     2 yr Undergrad     THE NEW SCHOOL 4YR UNDERGRAD     PRIVATE   \n",
       "\n",
       "  TAP Sector Group  TAP Recipient Headcount  TAP Recipient FTEs  \\\n",
       "0    5-INDEPENDENT                      135              121.00   \n",
       "1        3-SUNY SO                        5                4.00   \n",
       "2    5-INDEPENDENT                       11                6.67   \n",
       "3    5-INDEPENDENT                        9                6.75   \n",
       "4    5-INDEPENDENT                       15               13.75   \n",
       "\n",
       "   TAP Recipient Dollars  \n",
       "0               46715.50  \n",
       "1               12420.00  \n",
       "2                3495.28  \n",
       "3                1229.75  \n",
       "4               39434.75  "
      ]
     },
     "execution_count": 82,
     "metadata": {},
     "output_type": "execute_result"
    }
   ],
   "source": [
    "nys_tap_data.head()"
   ]
  },
  {
   "cell_type": "code",
   "execution_count": 83,
   "metadata": {},
   "outputs": [
    {
     "data": {
      "text/plain": [
       "(10664, 11)"
      ]
     },
     "execution_count": 83,
     "metadata": {},
     "output_type": "execute_result"
    }
   ],
   "source": [
    "# Number of rows and columns in the dataset\n",
    "nys_tap_data.shape"
   ]
  },
  {
   "cell_type": "code",
   "execution_count": 84,
   "metadata": {},
   "outputs": [
    {
     "data": {
      "text/html": [
       "<div>\n",
       "<style scoped>\n",
       "    .dataframe tbody tr th:only-of-type {\n",
       "        vertical-align: middle;\n",
       "    }\n",
       "\n",
       "    .dataframe tbody tr th {\n",
       "        vertical-align: top;\n",
       "    }\n",
       "\n",
       "    .dataframe thead th {\n",
       "        text-align: right;\n",
       "    }\n",
       "</style>\n",
       "<table border=\"1\" class=\"dataframe\">\n",
       "  <thead>\n",
       "    <tr style=\"text-align: right;\">\n",
       "      <th></th>\n",
       "      <th>Academic Year</th>\n",
       "      <th>TAP College Code</th>\n",
       "      <th>Federal School Code</th>\n",
       "      <th>Level</th>\n",
       "      <th>TAP Level of Study</th>\n",
       "      <th>TAP College Name</th>\n",
       "      <th>Sector Type</th>\n",
       "      <th>TAP Sector Group</th>\n",
       "      <th>TAP Recipient Headcount</th>\n",
       "      <th>TAP Recipient FTEs</th>\n",
       "      <th>TAP Recipient Dollars</th>\n",
       "    </tr>\n",
       "  </thead>\n",
       "  <tbody>\n",
       "    <tr>\n",
       "      <th>10253</th>\n",
       "      <td>2019</td>\n",
       "      <td>1407</td>\n",
       "      <td>2697</td>\n",
       "      <td>U</td>\n",
       "      <td>2 yr Undergrad</td>\n",
       "      <td>CUNY QUEENSBOROUGH CC</td>\n",
       "      <td>PUBLIC</td>\n",
       "      <td>2-CUNY CC</td>\n",
       "      <td>4474</td>\n",
       "      <td>3319.87</td>\n",
       "      <td>11219501.77</td>\n",
       "    </tr>\n",
       "    <tr>\n",
       "      <th>10266</th>\n",
       "      <td>2019</td>\n",
       "      <td>1410</td>\n",
       "      <td>2687</td>\n",
       "      <td>U</td>\n",
       "      <td>5 yr Undergrad</td>\n",
       "      <td>CUNY BROOKLYN COLLEGE</td>\n",
       "      <td>PUBLIC</td>\n",
       "      <td>1-CUNY SR</td>\n",
       "      <td>121</td>\n",
       "      <td>85.33</td>\n",
       "      <td>358810.48</td>\n",
       "    </tr>\n",
       "    <tr>\n",
       "      <th>10274</th>\n",
       "      <td>2019</td>\n",
       "      <td>1416</td>\n",
       "      <td>2690</td>\n",
       "      <td>U</td>\n",
       "      <td>5 yr Undergrad</td>\n",
       "      <td>CUNY QUEENS COLLEGE</td>\n",
       "      <td>PUBLIC</td>\n",
       "      <td>1-CUNY SR</td>\n",
       "      <td>92</td>\n",
       "      <td>61.06</td>\n",
       "      <td>256873.07</td>\n",
       "    </tr>\n",
       "    <tr>\n",
       "      <th>10277</th>\n",
       "      <td>2019</td>\n",
       "      <td>1418</td>\n",
       "      <td>4759</td>\n",
       "      <td>U</td>\n",
       "      <td>4 yr Undergrad</td>\n",
       "      <td>CUNY YORK COLLEGE</td>\n",
       "      <td>PUBLIC</td>\n",
       "      <td>1-CUNY SR</td>\n",
       "      <td>3437</td>\n",
       "      <td>2801.98</td>\n",
       "      <td>10418071.75</td>\n",
       "    </tr>\n",
       "    <tr>\n",
       "      <th>10281</th>\n",
       "      <td>2019</td>\n",
       "      <td>1414</td>\n",
       "      <td>2693</td>\n",
       "      <td>U</td>\n",
       "      <td>5 yr Undergrad</td>\n",
       "      <td>CUNY JOHN JAY COLLEGE</td>\n",
       "      <td>PUBLIC</td>\n",
       "      <td>1-CUNY SR</td>\n",
       "      <td>100</td>\n",
       "      <td>70.85</td>\n",
       "      <td>294156.88</td>\n",
       "    </tr>\n",
       "  </tbody>\n",
       "</table>\n",
       "</div>"
      ],
      "text/plain": [
       "       Academic Year  TAP College Code  Federal School Code Level  \\\n",
       "10253           2019              1407                 2697     U   \n",
       "10266           2019              1410                 2687     U   \n",
       "10274           2019              1416                 2690     U   \n",
       "10277           2019              1418                 4759     U   \n",
       "10281           2019              1414                 2693     U   \n",
       "\n",
       "      TAP Level of Study       TAP College Name Sector Type TAP Sector Group  \\\n",
       "10253     2 yr Undergrad  CUNY QUEENSBOROUGH CC      PUBLIC        2-CUNY CC   \n",
       "10266     5 yr Undergrad  CUNY BROOKLYN COLLEGE      PUBLIC        1-CUNY SR   \n",
       "10274     5 yr Undergrad    CUNY QUEENS COLLEGE      PUBLIC        1-CUNY SR   \n",
       "10277     4 yr Undergrad      CUNY YORK COLLEGE      PUBLIC        1-CUNY SR   \n",
       "10281     5 yr Undergrad  CUNY JOHN JAY COLLEGE      PUBLIC        1-CUNY SR   \n",
       "\n",
       "       TAP Recipient Headcount  TAP Recipient FTEs  TAP Recipient Dollars  \n",
       "10253                     4474             3319.87            11219501.77  \n",
       "10266                      121               85.33              358810.48  \n",
       "10274                       92               61.06              256873.07  \n",
       "10277                     3437             2801.98            10418071.75  \n",
       "10281                      100               70.85              294156.88  "
      ]
     },
     "execution_count": 84,
     "metadata": {},
     "output_type": "execute_result"
    }
   ],
   "source": [
    "# Filter the dataframe to include only CUNY Colleges during the 2019 Academic Year \n",
    "\n",
    "y2019_cuny_tap_data = nys_tap_data[(nys_tap_data[\"Academic Year\"] == 2019) \n",
    "                            & ((nys_tap_data[\"TAP Sector Group\"] == \"1-CUNY SR\")\n",
    "                            | (nys_tap_data[\"TAP Sector Group\"] == \"2-CUNY CC\"))]\n",
    "y2019_cuny_tap_data.head()"
   ]
  },
  {
   "cell_type": "code",
   "execution_count": 85,
   "metadata": {},
   "outputs": [
    {
     "data": {
      "text/html": [
       "<div>\n",
       "<style scoped>\n",
       "    .dataframe tbody tr th:only-of-type {\n",
       "        vertical-align: middle;\n",
       "    }\n",
       "\n",
       "    .dataframe tbody tr th {\n",
       "        vertical-align: top;\n",
       "    }\n",
       "\n",
       "    .dataframe thead th {\n",
       "        text-align: right;\n",
       "    }\n",
       "</style>\n",
       "<table border=\"1\" class=\"dataframe\">\n",
       "  <thead>\n",
       "    <tr style=\"text-align: right;\">\n",
       "      <th></th>\n",
       "      <th>TAP Level of Study</th>\n",
       "      <th>TAP College Name</th>\n",
       "      <th>TAP Sector Group</th>\n",
       "      <th>TAP Recipient Headcount</th>\n",
       "      <th>TAP Recipient FTEs</th>\n",
       "      <th>TAP Recipient Dollars</th>\n",
       "    </tr>\n",
       "  </thead>\n",
       "  <tbody>\n",
       "    <tr>\n",
       "      <th>10253</th>\n",
       "      <td>2 yr Undergrad</td>\n",
       "      <td>CUNY QUEENSBOROUGH CC</td>\n",
       "      <td>2-CUNY CC</td>\n",
       "      <td>4474</td>\n",
       "      <td>3319.87</td>\n",
       "      <td>11219501.77</td>\n",
       "    </tr>\n",
       "    <tr>\n",
       "      <th>10266</th>\n",
       "      <td>5 yr Undergrad</td>\n",
       "      <td>CUNY BROOKLYN COLLEGE</td>\n",
       "      <td>1-CUNY SR</td>\n",
       "      <td>121</td>\n",
       "      <td>85.33</td>\n",
       "      <td>358810.48</td>\n",
       "    </tr>\n",
       "    <tr>\n",
       "      <th>10274</th>\n",
       "      <td>5 yr Undergrad</td>\n",
       "      <td>CUNY QUEENS COLLEGE</td>\n",
       "      <td>1-CUNY SR</td>\n",
       "      <td>92</td>\n",
       "      <td>61.06</td>\n",
       "      <td>256873.07</td>\n",
       "    </tr>\n",
       "    <tr>\n",
       "      <th>10277</th>\n",
       "      <td>4 yr Undergrad</td>\n",
       "      <td>CUNY YORK COLLEGE</td>\n",
       "      <td>1-CUNY SR</td>\n",
       "      <td>3437</td>\n",
       "      <td>2801.98</td>\n",
       "      <td>10418071.75</td>\n",
       "    </tr>\n",
       "    <tr>\n",
       "      <th>10281</th>\n",
       "      <td>5 yr Undergrad</td>\n",
       "      <td>CUNY JOHN JAY COLLEGE</td>\n",
       "      <td>1-CUNY SR</td>\n",
       "      <td>100</td>\n",
       "      <td>70.85</td>\n",
       "      <td>294156.88</td>\n",
       "    </tr>\n",
       "  </tbody>\n",
       "</table>\n",
       "</div>"
      ],
      "text/plain": [
       "      TAP Level of Study       TAP College Name TAP Sector Group  \\\n",
       "10253     2 yr Undergrad  CUNY QUEENSBOROUGH CC        2-CUNY CC   \n",
       "10266     5 yr Undergrad  CUNY BROOKLYN COLLEGE        1-CUNY SR   \n",
       "10274     5 yr Undergrad    CUNY QUEENS COLLEGE        1-CUNY SR   \n",
       "10277     4 yr Undergrad      CUNY YORK COLLEGE        1-CUNY SR   \n",
       "10281     5 yr Undergrad  CUNY JOHN JAY COLLEGE        1-CUNY SR   \n",
       "\n",
       "       TAP Recipient Headcount  TAP Recipient FTEs  TAP Recipient Dollars  \n",
       "10253                     4474             3319.87            11219501.77  \n",
       "10266                      121               85.33              358810.48  \n",
       "10274                       92               61.06              256873.07  \n",
       "10277                     3437             2801.98            10418071.75  \n",
       "10281                      100               70.85              294156.88  "
      ]
     },
     "execution_count": 85,
     "metadata": {},
     "output_type": "execute_result"
    }
   ],
   "source": [
    "# Drop the Academic Year column since we extracted the year 2019\n",
    "# Drop the Sector Type column because we know CUNY Colleges are public colleges\n",
    "# Drop the Level, TAP and Federal code columns because it's not useful in this analysis\n",
    "\n",
    "y2019_cuny_tap_data = y2019_cuny_tap_data.drop(columns = [\"TAP College Code\", \"Federal School Code\", \\\n",
    "                                                          \"Academic Year\", \"Level\", \"Sector Type\"])\n",
    "y2019_cuny_tap_data.head()"
   ]
  },
  {
   "cell_type": "code",
   "execution_count": 86,
   "metadata": {},
   "outputs": [
    {
     "data": {
      "text/html": [
       "<div>\n",
       "<style scoped>\n",
       "    .dataframe tbody tr th:only-of-type {\n",
       "        vertical-align: middle;\n",
       "    }\n",
       "\n",
       "    .dataframe tbody tr th {\n",
       "        vertical-align: top;\n",
       "    }\n",
       "\n",
       "    .dataframe thead th {\n",
       "        text-align: right;\n",
       "    }\n",
       "</style>\n",
       "<table border=\"1\" class=\"dataframe\">\n",
       "  <thead>\n",
       "    <tr style=\"text-align: right;\">\n",
       "      <th></th>\n",
       "      <th>TAP Level of Study</th>\n",
       "      <th>TAP College Name</th>\n",
       "      <th>TAP Sector Group</th>\n",
       "      <th>TAP Recipient Headcount</th>\n",
       "      <th>TAP Recipient FTEs</th>\n",
       "      <th>TAP Recipient Dollars</th>\n",
       "    </tr>\n",
       "  </thead>\n",
       "  <tbody>\n",
       "    <tr>\n",
       "      <th>0</th>\n",
       "      <td>4 yr Undergrad</td>\n",
       "      <td>CUNY BARUCH COLLEGE</td>\n",
       "      <td>1-CUNY SR</td>\n",
       "      <td>6336</td>\n",
       "      <td>5371.81</td>\n",
       "      <td>20601583.22</td>\n",
       "    </tr>\n",
       "    <tr>\n",
       "      <th>1</th>\n",
       "      <td>5 yr Undergrad</td>\n",
       "      <td>CUNY BARUCH COLLEGE</td>\n",
       "      <td>1-CUNY SR</td>\n",
       "      <td>25</td>\n",
       "      <td>14.35</td>\n",
       "      <td>59916.65</td>\n",
       "    </tr>\n",
       "    <tr>\n",
       "      <th>2</th>\n",
       "      <td>2 yr Undergrad</td>\n",
       "      <td>CUNY BRONX CC</td>\n",
       "      <td>2-CUNY CC</td>\n",
       "      <td>4624</td>\n",
       "      <td>3370.62</td>\n",
       "      <td>12793560.66</td>\n",
       "    </tr>\n",
       "    <tr>\n",
       "      <th>3</th>\n",
       "      <td>5 yr Undergrad</td>\n",
       "      <td>CUNY BROOKLYN COLLEGE</td>\n",
       "      <td>1-CUNY SR</td>\n",
       "      <td>121</td>\n",
       "      <td>85.33</td>\n",
       "      <td>358810.48</td>\n",
       "    </tr>\n",
       "    <tr>\n",
       "      <th>4</th>\n",
       "      <td>4 yr Undergrad</td>\n",
       "      <td>CUNY BROOKLYN COLLEGE</td>\n",
       "      <td>1-CUNY SR</td>\n",
       "      <td>7155</td>\n",
       "      <td>5883.32</td>\n",
       "      <td>22352160.10</td>\n",
       "    </tr>\n",
       "  </tbody>\n",
       "</table>\n",
       "</div>"
      ],
      "text/plain": [
       "  TAP Level of Study       TAP College Name TAP Sector Group  \\\n",
       "0     4 yr Undergrad    CUNY BARUCH COLLEGE        1-CUNY SR   \n",
       "1     5 yr Undergrad    CUNY BARUCH COLLEGE        1-CUNY SR   \n",
       "2     2 yr Undergrad          CUNY BRONX CC        2-CUNY CC   \n",
       "3     5 yr Undergrad  CUNY BROOKLYN COLLEGE        1-CUNY SR   \n",
       "4     4 yr Undergrad  CUNY BROOKLYN COLLEGE        1-CUNY SR   \n",
       "\n",
       "   TAP Recipient Headcount  TAP Recipient FTEs  TAP Recipient Dollars  \n",
       "0                     6336             5371.81            20601583.22  \n",
       "1                       25               14.35               59916.65  \n",
       "2                     4624             3370.62            12793560.66  \n",
       "3                      121               85.33              358810.48  \n",
       "4                     7155             5883.32            22352160.10  "
      ]
     },
     "execution_count": 86,
     "metadata": {},
     "output_type": "execute_result"
    }
   ],
   "source": [
    "# Sort the data by the College Name and reindex the rows\n",
    "\n",
    "y2019_cuny_tap_data = y2019_cuny_tap_data.sort_values(\"TAP College Name\")\n",
    "y2019_cuny_tap_data.reset_index(drop = True, inplace = True)\n",
    "y2019_cuny_tap_data.head()"
   ]
  },
  {
   "cell_type": "code",
   "execution_count": 87,
   "metadata": {},
   "outputs": [],
   "source": [
    "# Make the TAP College Name the very first column in the dataframe\n",
    "\n",
    "college_name_column = y2019_cuny_tap_data[\"TAP College Name\"]\n",
    "y2019_cuny_tap_data.drop(columns = [\"TAP College Name\"], inplace = True)\n",
    "y2019_cuny_tap_data.insert(0, \"Tap College Name\", college_name_column)"
   ]
  },
  {
   "cell_type": "code",
   "execution_count": 88,
   "metadata": {},
   "outputs": [
    {
     "data": {
      "text/html": [
       "<div>\n",
       "<style scoped>\n",
       "    .dataframe tbody tr th:only-of-type {\n",
       "        vertical-align: middle;\n",
       "    }\n",
       "\n",
       "    .dataframe tbody tr th {\n",
       "        vertical-align: top;\n",
       "    }\n",
       "\n",
       "    .dataframe thead th {\n",
       "        text-align: right;\n",
       "    }\n",
       "</style>\n",
       "<table border=\"1\" class=\"dataframe\">\n",
       "  <thead>\n",
       "    <tr style=\"text-align: right;\">\n",
       "      <th></th>\n",
       "      <th>Tap College Name</th>\n",
       "      <th>TAP Level of Study</th>\n",
       "      <th>TAP Sector Group</th>\n",
       "      <th>TAP Recipient Headcount</th>\n",
       "      <th>TAP Recipient FTEs</th>\n",
       "      <th>TAP Recipient Dollars</th>\n",
       "    </tr>\n",
       "  </thead>\n",
       "  <tbody>\n",
       "    <tr>\n",
       "      <th>0</th>\n",
       "      <td>CUNY BARUCH COLLEGE</td>\n",
       "      <td>4 yr Undergrad</td>\n",
       "      <td>1-CUNY SR</td>\n",
       "      <td>6336</td>\n",
       "      <td>5371.81</td>\n",
       "      <td>20601583.22</td>\n",
       "    </tr>\n",
       "    <tr>\n",
       "      <th>1</th>\n",
       "      <td>CUNY BARUCH COLLEGE</td>\n",
       "      <td>5 yr Undergrad</td>\n",
       "      <td>1-CUNY SR</td>\n",
       "      <td>25</td>\n",
       "      <td>14.35</td>\n",
       "      <td>59916.65</td>\n",
       "    </tr>\n",
       "    <tr>\n",
       "      <th>2</th>\n",
       "      <td>CUNY BRONX CC</td>\n",
       "      <td>2 yr Undergrad</td>\n",
       "      <td>2-CUNY CC</td>\n",
       "      <td>4624</td>\n",
       "      <td>3370.62</td>\n",
       "      <td>12793560.66</td>\n",
       "    </tr>\n",
       "    <tr>\n",
       "      <th>3</th>\n",
       "      <td>CUNY BROOKLYN COLLEGE</td>\n",
       "      <td>5 yr Undergrad</td>\n",
       "      <td>1-CUNY SR</td>\n",
       "      <td>121</td>\n",
       "      <td>85.33</td>\n",
       "      <td>358810.48</td>\n",
       "    </tr>\n",
       "    <tr>\n",
       "      <th>4</th>\n",
       "      <td>CUNY BROOKLYN COLLEGE</td>\n",
       "      <td>4 yr Undergrad</td>\n",
       "      <td>1-CUNY SR</td>\n",
       "      <td>7155</td>\n",
       "      <td>5883.32</td>\n",
       "      <td>22352160.10</td>\n",
       "    </tr>\n",
       "  </tbody>\n",
       "</table>\n",
       "</div>"
      ],
      "text/plain": [
       "        Tap College Name TAP Level of Study TAP Sector Group  \\\n",
       "0    CUNY BARUCH COLLEGE     4 yr Undergrad        1-CUNY SR   \n",
       "1    CUNY BARUCH COLLEGE     5 yr Undergrad        1-CUNY SR   \n",
       "2          CUNY BRONX CC     2 yr Undergrad        2-CUNY CC   \n",
       "3  CUNY BROOKLYN COLLEGE     5 yr Undergrad        1-CUNY SR   \n",
       "4  CUNY BROOKLYN COLLEGE     4 yr Undergrad        1-CUNY SR   \n",
       "\n",
       "   TAP Recipient Headcount  TAP Recipient FTEs  TAP Recipient Dollars  \n",
       "0                     6336             5371.81            20601583.22  \n",
       "1                       25               14.35               59916.65  \n",
       "2                     4624             3370.62            12793560.66  \n",
       "3                      121               85.33              358810.48  \n",
       "4                     7155             5883.32            22352160.10  "
      ]
     },
     "execution_count": 88,
     "metadata": {},
     "output_type": "execute_result"
    }
   ],
   "source": [
    "y2019_cuny_tap_data.head()"
   ]
  },
  {
   "cell_type": "markdown",
   "metadata": {},
   "source": [
    "### 2. Single Variable Distribution Plots"
   ]
  },
  {
   "cell_type": "code",
   "execution_count": 99,
   "metadata": {},
   "outputs": [
    {
     "data": {
      "text/plain": [
       "Text(0, 0.5, '# of TAP grants received')"
      ]
     },
     "execution_count": 99,
     "metadata": {},
     "output_type": "execute_result"
    },
    {
     "data": {
      "image/png": "[encoded data removed]",
      "text/plain": [
       "<Figure size 432x288 with 1 Axes>"
      ]
     },
     "metadata": {
      "needs_background": "light"
     },
     "output_type": "display_data"
    }
   ],
   "source": [
    "y2019_cuny_tap_data[\"Tap College Name\"].value_counts().plot.bar()\n",
    "plt.title(\"Number of TAP grants received by each CUNY College in 2019\")\n",
    "plt.xlabel(\"CUNY Colleges\")\n",
    "plt.ylabel(\"# of TAP grants received\")"
   ]
  },
  {
   "cell_type": "code",
   "execution_count": 101,
   "metadata": {},
   "outputs": [
    {
     "data": {
      "text/plain": [
       "Text(0, 0.5, '# of TAP grants received')"
      ]
     },
     "execution_count": 101,
     "metadata": {},
     "output_type": "execute_result"
    },
    {
     "data": {
      "image/png": "[encoded data removed]",
      "text/plain": [
       "<Figure size 432x288 with 1 Axes>"
      ]
     },
     "metadata": {
      "needs_background": "light"
     },
     "output_type": "display_data"
    }
   ],
   "source": [
    "y2019_cuny_tap_data[\"TAP Sector Group\"].value_counts().plot.bar()\n",
    "plt.title(\"Number of TAP grants received by CUNY Senior Colleges & Community Colleges in 2019\")\n",
    "plt.xlabel(\"TAP Sector Group (CC - Community College, SR - Senior College)\")\n",
    "plt.ylabel(\"# of TAP grants received\")"
   ]
  },
  {
   "cell_type": "code",
   "execution_count": 145,
   "metadata": {},
   "outputs": [
    {
     "data": {
      "text/plain": [
       "Text(0, 0.5, 'Frequency')"
      ]
     },
     "execution_count": 145,
     "metadata": {},
     "output_type": "execute_result"
    },
    {
     "data": {
      "image/png": "[encoded data removed]",
      "text/plain": [
       "<Figure size 432x288 with 1 Axes>"
      ]
     },
     "metadata": {
      "needs_background": "light"
     },
     "output_type": "display_data"
    }
   ],
   "source": [
    "y2019_cuny_tap_data[\"TAP Recipient Headcount\"].hist()\n",
    "plt.title(\"Distribution of recipients (students) of TAP grants in 2019 Academic Year\")\n",
    "plt.xlabel(\"Number of students\")\n",
    "plt.ylabel(\"Frequency\")"
   ]
  },
  {
   "cell_type": "code",
   "execution_count": 148,
   "metadata": {},
   "outputs": [
    {
     "data": {
      "text/plain": [
       "Text(0, 0.5, 'Frequency')"
      ]
     },
     "execution_count": 148,
     "metadata": {},
     "output_type": "execute_result"
    },
    {
     "data": {
      "image/png": "[encoded data removed]",
      "text/plain": [
       "<Figure size 432x288 with 1 Axes>"
      ]
     },
     "metadata": {
      "needs_background": "light"
     },
     "output_type": "display_data"
    }
   ],
   "source": [
    "y2019_cuny_tap_data[\"TAP Recipient Dollars\"].hist()\n",
    "plt.title(\"Distribution of TAP dollars awarded to the schools\")\n",
    "plt.xlabel(\"($)TAP Dollars (1e7 means +0,000,000)\")\n",
    "plt.ylabel(\"Frequency\")"
   ]
  },
  {
   "cell_type": "code",
   "execution_count": null,
   "metadata": {},
   "outputs": [],
   "source": []
  }
 ],
 "metadata": {
  "kernelspec": {
   "display_name": "Python 3",
   "language": "python",
   "name": "python3"
  },
  "language_info": {
   "codemirror_mode": {
    "name": "ipython",
    "version": 3
   },
   "file_extension": ".py",
   "mimetype": "text/x-python",
   "name": "python",
   "nbconvert_exporter": "python",
   "pygments_lexer": "ipython3",
   "version": "3.8.5"
  }
 },
 "nbformat": 4,
 "nbformat_minor": 4
}
