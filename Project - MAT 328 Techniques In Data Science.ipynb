{
 "cells": [
  {
   "cell_type": "markdown",
   "metadata": {},
   "source": [
    "# Project - MAT 328 Techniques In Data Science"
   ]
  },
  {
   "cell_type": "markdown",
   "metadata": {},
   "source": [
    "## New York State Tuition Assistance Program (TAP) Grants Data Analysis"
   ]
  },
  {
   "cell_type": "markdown",
   "metadata": {},
   "source": [
    "### 1. Loading and cleaning the data"
   ]
  },
  {
   "cell_type": "code",
   "execution_count": 1,
   "metadata": {},
   "outputs": [],
   "source": [
    "import pandas as pd\n",
    "import numpy as np\n",
    "import matplotlib.pyplot as plt\n",
    "import seaborn as sns\n",
    "import statsmodels.formula.api as smf\n",
    "from sklearn.linear_model import LinearRegression\n",
    "from sklearn.metrics import mean_squared_error\n",
    "from sklearn.model_selection import train_test_split\n",
    "from sklearn.tree import DecisionTreeRegressor\n",
    "from sklearn.preprocessing import MinMaxScaler\n",
    "from sklearn.neighbors import KNeighborsRegressor\n",
    "from sklearn.linear_model import LogisticRegression\n",
    "import statsmodels.formula.api as smf\n",
    "from sklearn.metrics import accuracy_score\n",
    "from sklearn.metrics import precision_score, recall_score, confusion_matrix"
   ]
  },
  {
   "cell_type": "code",
   "execution_count": 2,
   "metadata": {
    "scrolled": true
   },
   "outputs": [],
   "source": [
    "nys_tap_data = pd.read_csv(\"TAP_Recipients_Dollars_by_College__Sector_Group_and_Level_of_Study.csv\")"
   ]
  },
  {
   "cell_type": "code",
   "execution_count": 3,
   "metadata": {},
   "outputs": [
    {
     "data": {
      "text/html": [
       "<div>\n",
       "<style scoped>\n",
       "    .dataframe tbody tr th:only-of-type {\n",
       "        vertical-align: middle;\n",
       "    }\n",
       "\n",
       "    .dataframe tbody tr th {\n",
       "        vertical-align: top;\n",
       "    }\n",
       "\n",
       "    .dataframe thead th {\n",
       "        text-align: right;\n",
       "    }\n",
       "</style>\n",
       "<table border=\"1\" class=\"dataframe\">\n",
       "  <thead>\n",
       "    <tr style=\"text-align: right;\">\n",
       "      <th></th>\n",
       "      <th>Academic Year</th>\n",
       "      <th>TAP College Code</th>\n",
       "      <th>Federal School Code</th>\n",
       "      <th>Level</th>\n",
       "      <th>TAP Level of Study</th>\n",
       "      <th>TAP College Name</th>\n",
       "      <th>Sector Type</th>\n",
       "      <th>TAP Sector Group</th>\n",
       "      <th>TAP Recipient Headcount</th>\n",
       "      <th>TAP Recipient FTEs</th>\n",
       "      <th>TAP Recipient Dollars</th>\n",
       "    </tr>\n",
       "  </thead>\n",
       "  <tbody>\n",
       "    <tr>\n",
       "      <th>0</th>\n",
       "      <td>2000</td>\n",
       "      <td>5151</td>\n",
       "      <td>9895</td>\n",
       "      <td>G</td>\n",
       "      <td>Grad</td>\n",
       "      <td>YESHIVA UNIV GRAD/PROFESSIONAL</td>\n",
       "      <td>PRIVATE</td>\n",
       "      <td>5-INDEPENDENT</td>\n",
       "      <td>135</td>\n",
       "      <td>121.00</td>\n",
       "      <td>46715.50</td>\n",
       "    </tr>\n",
       "    <tr>\n",
       "      <th>1</th>\n",
       "      <td>2000</td>\n",
       "      <td>955</td>\n",
       "      <td>2853</td>\n",
       "      <td>U</td>\n",
       "      <td>5 yr Undergrad</td>\n",
       "      <td>SUNY MARITIME COLLEGE</td>\n",
       "      <td>PUBLIC</td>\n",
       "      <td>3-SUNY SO</td>\n",
       "      <td>5</td>\n",
       "      <td>4.00</td>\n",
       "      <td>12420.00</td>\n",
       "    </tr>\n",
       "    <tr>\n",
       "      <th>2</th>\n",
       "      <td>2000</td>\n",
       "      <td>5142</td>\n",
       "      <td>2894</td>\n",
       "      <td>G</td>\n",
       "      <td>Grad</td>\n",
       "      <td>UNIV OF ROCHESTER SIMON SCH BUS</td>\n",
       "      <td>PRIVATE</td>\n",
       "      <td>5-INDEPENDENT</td>\n",
       "      <td>11</td>\n",
       "      <td>6.67</td>\n",
       "      <td>3495.28</td>\n",
       "    </tr>\n",
       "    <tr>\n",
       "      <th>3</th>\n",
       "      <td>2000</td>\n",
       "      <td>5141</td>\n",
       "      <td>4828</td>\n",
       "      <td>G</td>\n",
       "      <td>Grad</td>\n",
       "      <td>UNIV OF ROCHESTER EASTMAN GRAD</td>\n",
       "      <td>PRIVATE</td>\n",
       "      <td>5-INDEPENDENT</td>\n",
       "      <td>9</td>\n",
       "      <td>6.75</td>\n",
       "      <td>1229.75</td>\n",
       "    </tr>\n",
       "    <tr>\n",
       "      <th>4</th>\n",
       "      <td>2000</td>\n",
       "      <td>535</td>\n",
       "      <td>20662</td>\n",
       "      <td>U</td>\n",
       "      <td>2 yr Undergrad</td>\n",
       "      <td>THE NEW SCHOOL 4YR UNDERGRAD</td>\n",
       "      <td>PRIVATE</td>\n",
       "      <td>5-INDEPENDENT</td>\n",
       "      <td>15</td>\n",
       "      <td>13.75</td>\n",
       "      <td>39434.75</td>\n",
       "    </tr>\n",
       "  </tbody>\n",
       "</table>\n",
       "</div>"
      ],
      "text/plain": [
       "   Academic Year  TAP College Code  Federal School Code Level  \\\n",
       "0           2000              5151                 9895     G   \n",
       "1           2000               955                 2853     U   \n",
       "2           2000              5142                 2894     G   \n",
       "3           2000              5141                 4828     G   \n",
       "4           2000               535                20662     U   \n",
       "\n",
       "  TAP Level of Study                 TAP College Name Sector Type  \\\n",
       "0               Grad   YESHIVA UNIV GRAD/PROFESSIONAL     PRIVATE   \n",
       "1     5 yr Undergrad            SUNY MARITIME COLLEGE      PUBLIC   \n",
       "2               Grad  UNIV OF ROCHESTER SIMON SCH BUS     PRIVATE   \n",
       "3               Grad   UNIV OF ROCHESTER EASTMAN GRAD     PRIVATE   \n",
       "4     2 yr Undergrad     THE NEW SCHOOL 4YR UNDERGRAD     PRIVATE   \n",
       "\n",
       "  TAP Sector Group  TAP Recipient Headcount  TAP Recipient FTEs  \\\n",
       "0    5-INDEPENDENT                      135              121.00   \n",
       "1        3-SUNY SO                        5                4.00   \n",
       "2    5-INDEPENDENT                       11                6.67   \n",
       "3    5-INDEPENDENT                        9                6.75   \n",
       "4    5-INDEPENDENT                       15               13.75   \n",
       "\n",
       "   TAP Recipient Dollars  \n",
       "0               46715.50  \n",
       "1               12420.00  \n",
       "2                3495.28  \n",
       "3                1229.75  \n",
       "4               39434.75  "
      ]
     },
     "execution_count": 3,
     "metadata": {},
     "output_type": "execute_result"
    }
   ],
   "source": [
    "nys_tap_data.head()"
   ]
  },
  {
   "cell_type": "code",
   "execution_count": 4,
   "metadata": {},
   "outputs": [
    {
     "data": {
      "text/plain": [
       "10664"
      ]
     },
     "execution_count": 4,
     "metadata": {},
     "output_type": "execute_result"
    }
   ],
   "source": [
    "# Number of rows in the dataset\n",
    "len(nys_tap_data)"
   ]
  },
  {
   "cell_type": "code",
   "execution_count": 5,
   "metadata": {},
   "outputs": [
    {
     "data": {
      "text/html": [
       "<div>\n",
       "<style scoped>\n",
       "    .dataframe tbody tr th:only-of-type {\n",
       "        vertical-align: middle;\n",
       "    }\n",
       "\n",
       "    .dataframe tbody tr th {\n",
       "        vertical-align: top;\n",
       "    }\n",
       "\n",
       "    .dataframe thead th {\n",
       "        text-align: right;\n",
       "    }\n",
       "</style>\n",
       "<table border=\"1\" class=\"dataframe\">\n",
       "  <thead>\n",
       "    <tr style=\"text-align: right;\">\n",
       "      <th></th>\n",
       "      <th>Academic Year</th>\n",
       "      <th>TAP College Code</th>\n",
       "      <th>Federal School Code</th>\n",
       "      <th>Level</th>\n",
       "      <th>TAP Level of Study</th>\n",
       "      <th>TAP College Name</th>\n",
       "      <th>Sector Type</th>\n",
       "      <th>TAP Sector Group</th>\n",
       "      <th>TAP Recipient Headcount</th>\n",
       "      <th>TAP Recipient FTEs</th>\n",
       "      <th>TAP Recipient Dollars</th>\n",
       "    </tr>\n",
       "  </thead>\n",
       "  <tbody>\n",
       "    <tr>\n",
       "      <th>6239</th>\n",
       "      <td>2010</td>\n",
       "      <td>1405</td>\n",
       "      <td>2696</td>\n",
       "      <td>U</td>\n",
       "      <td>5 yr Undergrad</td>\n",
       "      <td>CUNY NYC COLLEGE OF TECHNOLOGY</td>\n",
       "      <td>PUBLIC</td>\n",
       "      <td>1-CUNY SR</td>\n",
       "      <td>39</td>\n",
       "      <td>26.42</td>\n",
       "      <td>107197.83</td>\n",
       "    </tr>\n",
       "    <tr>\n",
       "      <th>6240</th>\n",
       "      <td>2010</td>\n",
       "      <td>1404</td>\n",
       "      <td>2691</td>\n",
       "      <td>U</td>\n",
       "      <td>2 yr Undergrad</td>\n",
       "      <td>CUNY MANHATTAN CC</td>\n",
       "      <td>PUBLIC</td>\n",
       "      <td>2-CUNY CC</td>\n",
       "      <td>9336</td>\n",
       "      <td>6341.38</td>\n",
       "      <td>15492174.65</td>\n",
       "    </tr>\n",
       "    <tr>\n",
       "      <th>6241</th>\n",
       "      <td>2010</td>\n",
       "      <td>1412</td>\n",
       "      <td>7022</td>\n",
       "      <td>U</td>\n",
       "      <td>4 yr Undergrad</td>\n",
       "      <td>CUNY HERBERT H LEHMAN COLLEGE</td>\n",
       "      <td>PUBLIC</td>\n",
       "      <td>1-CUNY SR</td>\n",
       "      <td>4269</td>\n",
       "      <td>3277.46</td>\n",
       "      <td>11229297.87</td>\n",
       "    </tr>\n",
       "    <tr>\n",
       "      <th>6242</th>\n",
       "      <td>2010</td>\n",
       "      <td>1415</td>\n",
       "      <td>10097</td>\n",
       "      <td>U</td>\n",
       "      <td>4 yr Undergrad</td>\n",
       "      <td>CUNY MEDGER EVERS COLLEGE</td>\n",
       "      <td>PUBLIC</td>\n",
       "      <td>1-CUNY SR</td>\n",
       "      <td>1675</td>\n",
       "      <td>1223.67</td>\n",
       "      <td>4302152.72</td>\n",
       "    </tr>\n",
       "    <tr>\n",
       "      <th>6243</th>\n",
       "      <td>2010</td>\n",
       "      <td>1414</td>\n",
       "      <td>2693</td>\n",
       "      <td>U</td>\n",
       "      <td>2 yr Undergrad</td>\n",
       "      <td>CUNY JOHN JAY COLLEGE</td>\n",
       "      <td>PUBLIC</td>\n",
       "      <td>1-CUNY SR</td>\n",
       "      <td>565</td>\n",
       "      <td>375.42</td>\n",
       "      <td>1335536.61</td>\n",
       "    </tr>\n",
       "  </tbody>\n",
       "</table>\n",
       "</div>"
      ],
      "text/plain": [
       "      Academic Year  TAP College Code  Federal School Code Level  \\\n",
       "6239           2010              1405                 2696     U   \n",
       "6240           2010              1404                 2691     U   \n",
       "6241           2010              1412                 7022     U   \n",
       "6242           2010              1415                10097     U   \n",
       "6243           2010              1414                 2693     U   \n",
       "\n",
       "     TAP Level of Study                TAP College Name Sector Type  \\\n",
       "6239     5 yr Undergrad  CUNY NYC COLLEGE OF TECHNOLOGY      PUBLIC   \n",
       "6240     2 yr Undergrad               CUNY MANHATTAN CC      PUBLIC   \n",
       "6241     4 yr Undergrad   CUNY HERBERT H LEHMAN COLLEGE      PUBLIC   \n",
       "6242     4 yr Undergrad       CUNY MEDGER EVERS COLLEGE      PUBLIC   \n",
       "6243     2 yr Undergrad           CUNY JOHN JAY COLLEGE      PUBLIC   \n",
       "\n",
       "     TAP Sector Group  TAP Recipient Headcount  TAP Recipient FTEs  \\\n",
       "6239        1-CUNY SR                       39               26.42   \n",
       "6240        2-CUNY CC                     9336             6341.38   \n",
       "6241        1-CUNY SR                     4269             3277.46   \n",
       "6242        1-CUNY SR                     1675             1223.67   \n",
       "6243        1-CUNY SR                      565              375.42   \n",
       "\n",
       "      TAP Recipient Dollars  \n",
       "6239              107197.83  \n",
       "6240            15492174.65  \n",
       "6241            11229297.87  \n",
       "6242             4302152.72  \n",
       "6243             1335536.61  "
      ]
     },
     "execution_count": 5,
     "metadata": {},
     "output_type": "execute_result"
    }
   ],
   "source": [
    "# Filter the dataframe to include only CUNY Colleges from 2010 to 2019 Academic Year \n",
    "\n",
    "cuny_tap_data = nys_tap_data[(nys_tap_data[\"Academic Year\"] >= 2010) \n",
    "                            & ((nys_tap_data[\"TAP Sector Group\"] == \"1-CUNY SR\")\n",
    "                            | (nys_tap_data[\"TAP Sector Group\"] == \"2-CUNY CC\"))]\n",
    "cuny_tap_data.head()"
   ]
  },
  {
   "cell_type": "code",
   "execution_count": 6,
   "metadata": {},
   "outputs": [],
   "source": [
    "# Drop the Sector Type column because we know CUNY Colleges are public colleges\n",
    "# Drop the Level, TAP College Code and Federal School code columns because it's not useful in this analysis\n",
    "cuny_tap_data = cuny_tap_data.drop(columns = [\"TAP College Code\", \"Federal School Code\", \"Level\", \"Sector Type\"])"
   ]
  },
  {
   "cell_type": "code",
   "execution_count": 7,
   "metadata": {},
   "outputs": [
    {
     "data": {
      "text/html": [
       "<div>\n",
       "<style scoped>\n",
       "    .dataframe tbody tr th:only-of-type {\n",
       "        vertical-align: middle;\n",
       "    }\n",
       "\n",
       "    .dataframe tbody tr th {\n",
       "        vertical-align: top;\n",
       "    }\n",
       "\n",
       "    .dataframe thead th {\n",
       "        text-align: right;\n",
       "    }\n",
       "</style>\n",
       "<table border=\"1\" class=\"dataframe\">\n",
       "  <thead>\n",
       "    <tr style=\"text-align: right;\">\n",
       "      <th></th>\n",
       "      <th>Academic Year</th>\n",
       "      <th>TAP Level of Study</th>\n",
       "      <th>TAP College Name</th>\n",
       "      <th>TAP Sector Group</th>\n",
       "      <th>TAP Recipient Headcount</th>\n",
       "      <th>TAP Recipient FTEs</th>\n",
       "      <th>TAP Recipient Dollars</th>\n",
       "    </tr>\n",
       "  </thead>\n",
       "  <tbody>\n",
       "    <tr>\n",
       "      <th>6239</th>\n",
       "      <td>2010</td>\n",
       "      <td>5 yr Undergrad</td>\n",
       "      <td>CUNY NYC COLLEGE OF TECHNOLOGY</td>\n",
       "      <td>1-CUNY SR</td>\n",
       "      <td>39</td>\n",
       "      <td>26.42</td>\n",
       "      <td>107197.83</td>\n",
       "    </tr>\n",
       "    <tr>\n",
       "      <th>6240</th>\n",
       "      <td>2010</td>\n",
       "      <td>2 yr Undergrad</td>\n",
       "      <td>CUNY MANHATTAN CC</td>\n",
       "      <td>2-CUNY CC</td>\n",
       "      <td>9336</td>\n",
       "      <td>6341.38</td>\n",
       "      <td>15492174.65</td>\n",
       "    </tr>\n",
       "    <tr>\n",
       "      <th>6241</th>\n",
       "      <td>2010</td>\n",
       "      <td>4 yr Undergrad</td>\n",
       "      <td>CUNY HERBERT H LEHMAN COLLEGE</td>\n",
       "      <td>1-CUNY SR</td>\n",
       "      <td>4269</td>\n",
       "      <td>3277.46</td>\n",
       "      <td>11229297.87</td>\n",
       "    </tr>\n",
       "    <tr>\n",
       "      <th>6242</th>\n",
       "      <td>2010</td>\n",
       "      <td>4 yr Undergrad</td>\n",
       "      <td>CUNY MEDGER EVERS COLLEGE</td>\n",
       "      <td>1-CUNY SR</td>\n",
       "      <td>1675</td>\n",
       "      <td>1223.67</td>\n",
       "      <td>4302152.72</td>\n",
       "    </tr>\n",
       "    <tr>\n",
       "      <th>6243</th>\n",
       "      <td>2010</td>\n",
       "      <td>2 yr Undergrad</td>\n",
       "      <td>CUNY JOHN JAY COLLEGE</td>\n",
       "      <td>1-CUNY SR</td>\n",
       "      <td>565</td>\n",
       "      <td>375.42</td>\n",
       "      <td>1335536.61</td>\n",
       "    </tr>\n",
       "  </tbody>\n",
       "</table>\n",
       "</div>"
      ],
      "text/plain": [
       "      Academic Year TAP Level of Study                TAP College Name  \\\n",
       "6239           2010     5 yr Undergrad  CUNY NYC COLLEGE OF TECHNOLOGY   \n",
       "6240           2010     2 yr Undergrad               CUNY MANHATTAN CC   \n",
       "6241           2010     4 yr Undergrad   CUNY HERBERT H LEHMAN COLLEGE   \n",
       "6242           2010     4 yr Undergrad       CUNY MEDGER EVERS COLLEGE   \n",
       "6243           2010     2 yr Undergrad           CUNY JOHN JAY COLLEGE   \n",
       "\n",
       "     TAP Sector Group  TAP Recipient Headcount  TAP Recipient FTEs  \\\n",
       "6239        1-CUNY SR                       39               26.42   \n",
       "6240        2-CUNY CC                     9336             6341.38   \n",
       "6241        1-CUNY SR                     4269             3277.46   \n",
       "6242        1-CUNY SR                     1675             1223.67   \n",
       "6243        1-CUNY SR                      565              375.42   \n",
       "\n",
       "      TAP Recipient Dollars  \n",
       "6239              107197.83  \n",
       "6240            15492174.65  \n",
       "6241            11229297.87  \n",
       "6242             4302152.72  \n",
       "6243             1335536.61  "
      ]
     },
     "execution_count": 7,
     "metadata": {},
     "output_type": "execute_result"
    }
   ],
   "source": [
    "cuny_tap_data.head()"
   ]
  },
  {
   "cell_type": "code",
   "execution_count": 8,
   "metadata": {},
   "outputs": [],
   "source": [
    "# Drop all the rows in the dataset with the College Names ('CUNY GRAD SCH UNDERGRAD PROG' \n",
    "# and 'CUNY GRAD CTR-SCHOL OF LABOR UG') because we want to analyze TAP grants awarded to\n",
    "# to CUNY Senior Colleges and Community Colleges\n",
    "\n",
    "cuny_tap_data = cuny_tap_data[(cuny_tap_data[\"TAP College Name\"] != \"CUNY GRAD SCH UNDERGRAD PROG\") \n",
    "                             & (cuny_tap_data[\"TAP College Name\"] != \"CUNY GRAD CTR-SCHOL OF LABOR UG\")]"
   ]
  },
  {
   "cell_type": "code",
   "execution_count": 9,
   "metadata": {},
   "outputs": [],
   "source": [
    "# Remove rows with CUNY Community Colleges having 4 year(Bachelors) & 5 year(Comnibed Bachelors/Masters)\n",
    "# programs. I believe this is an error in the dataset because CUNY Community Colleges do not have 5 year programs\n",
    "cuny_tap_data = cuny_tap_data[(cuny_tap_data[\"TAP Sector Group\"] == \"1-CUNY SR\") \n",
    "                                 | ((cuny_tap_data[\"TAP Sector Group\"] == \"2-CUNY CC\") \n",
    "                                 & ((cuny_tap_data[\"TAP Level of Study\"] != \"4 yr Undergrad\")\n",
    "                                 & (cuny_tap_data[\"TAP Level of Study\"] != \"5 yr Undergrad\")))]"
   ]
  },
  {
   "cell_type": "code",
   "execution_count": 10,
   "metadata": {},
   "outputs": [
    {
     "data": {
      "text/plain": [
       "326"
      ]
     },
     "execution_count": 10,
     "metadata": {},
     "output_type": "execute_result"
    }
   ],
   "source": [
    "len(cuny_tap_data)"
   ]
  },
  {
   "cell_type": "code",
   "execution_count": 11,
   "metadata": {},
   "outputs": [],
   "source": [
    "# Make the TAP College Name the very first column in the dataframe\n",
    "\n",
    "college_name_column = cuny_tap_data[\"TAP College Name\"]\n",
    "cuny_tap_data.drop(columns = [\"TAP College Name\"], inplace = True)\n",
    "cuny_tap_data.insert(0, \"TAP College Name\", college_name_column)"
   ]
  },
  {
   "cell_type": "code",
   "execution_count": 12,
   "metadata": {},
   "outputs": [
    {
     "data": {
      "text/html": [
       "<div>\n",
       "<style scoped>\n",
       "    .dataframe tbody tr th:only-of-type {\n",
       "        vertical-align: middle;\n",
       "    }\n",
       "\n",
       "    .dataframe tbody tr th {\n",
       "        vertical-align: top;\n",
       "    }\n",
       "\n",
       "    .dataframe thead th {\n",
       "        text-align: right;\n",
       "    }\n",
       "</style>\n",
       "<table border=\"1\" class=\"dataframe\">\n",
       "  <thead>\n",
       "    <tr style=\"text-align: right;\">\n",
       "      <th></th>\n",
       "      <th>TAP College Name</th>\n",
       "      <th>Academic Year</th>\n",
       "      <th>TAP Level of Study</th>\n",
       "      <th>TAP Sector Group</th>\n",
       "      <th>TAP Recipient Headcount</th>\n",
       "      <th>TAP Recipient FTEs</th>\n",
       "      <th>TAP Recipient Dollars</th>\n",
       "    </tr>\n",
       "  </thead>\n",
       "  <tbody>\n",
       "    <tr>\n",
       "      <th>6239</th>\n",
       "      <td>CUNY NYC COLLEGE OF TECHNOLOGY</td>\n",
       "      <td>2010</td>\n",
       "      <td>5 yr Undergrad</td>\n",
       "      <td>1-CUNY SR</td>\n",
       "      <td>39</td>\n",
       "      <td>26.42</td>\n",
       "      <td>107197.83</td>\n",
       "    </tr>\n",
       "    <tr>\n",
       "      <th>6240</th>\n",
       "      <td>CUNY MANHATTAN CC</td>\n",
       "      <td>2010</td>\n",
       "      <td>2 yr Undergrad</td>\n",
       "      <td>2-CUNY CC</td>\n",
       "      <td>9336</td>\n",
       "      <td>6341.38</td>\n",
       "      <td>15492174.65</td>\n",
       "    </tr>\n",
       "    <tr>\n",
       "      <th>6241</th>\n",
       "      <td>CUNY HERBERT H LEHMAN COLLEGE</td>\n",
       "      <td>2010</td>\n",
       "      <td>4 yr Undergrad</td>\n",
       "      <td>1-CUNY SR</td>\n",
       "      <td>4269</td>\n",
       "      <td>3277.46</td>\n",
       "      <td>11229297.87</td>\n",
       "    </tr>\n",
       "    <tr>\n",
       "      <th>6242</th>\n",
       "      <td>CUNY MEDGER EVERS COLLEGE</td>\n",
       "      <td>2010</td>\n",
       "      <td>4 yr Undergrad</td>\n",
       "      <td>1-CUNY SR</td>\n",
       "      <td>1675</td>\n",
       "      <td>1223.67</td>\n",
       "      <td>4302152.72</td>\n",
       "    </tr>\n",
       "    <tr>\n",
       "      <th>6243</th>\n",
       "      <td>CUNY JOHN JAY COLLEGE</td>\n",
       "      <td>2010</td>\n",
       "      <td>2 yr Undergrad</td>\n",
       "      <td>1-CUNY SR</td>\n",
       "      <td>565</td>\n",
       "      <td>375.42</td>\n",
       "      <td>1335536.61</td>\n",
       "    </tr>\n",
       "  </tbody>\n",
       "</table>\n",
       "</div>"
      ],
      "text/plain": [
       "                    TAP College Name  Academic Year TAP Level of Study  \\\n",
       "6239  CUNY NYC COLLEGE OF TECHNOLOGY           2010     5 yr Undergrad   \n",
       "6240               CUNY MANHATTAN CC           2010     2 yr Undergrad   \n",
       "6241   CUNY HERBERT H LEHMAN COLLEGE           2010     4 yr Undergrad   \n",
       "6242       CUNY MEDGER EVERS COLLEGE           2010     4 yr Undergrad   \n",
       "6243           CUNY JOHN JAY COLLEGE           2010     2 yr Undergrad   \n",
       "\n",
       "     TAP Sector Group  TAP Recipient Headcount  TAP Recipient FTEs  \\\n",
       "6239        1-CUNY SR                       39               26.42   \n",
       "6240        2-CUNY CC                     9336             6341.38   \n",
       "6241        1-CUNY SR                     4269             3277.46   \n",
       "6242        1-CUNY SR                     1675             1223.67   \n",
       "6243        1-CUNY SR                      565              375.42   \n",
       "\n",
       "      TAP Recipient Dollars  \n",
       "6239              107197.83  \n",
       "6240            15492174.65  \n",
       "6241            11229297.87  \n",
       "6242             4302152.72  \n",
       "6243             1335536.61  "
      ]
     },
     "execution_count": 12,
     "metadata": {},
     "output_type": "execute_result"
    }
   ],
   "source": [
    "cuny_tap_data.head()"
   ]
  },
  {
   "cell_type": "code",
   "execution_count": 13,
   "metadata": {},
   "outputs": [
    {
     "data": {
      "text/html": [
       "<div>\n",
       "<style scoped>\n",
       "    .dataframe tbody tr th:only-of-type {\n",
       "        vertical-align: middle;\n",
       "    }\n",
       "\n",
       "    .dataframe tbody tr th {\n",
       "        vertical-align: top;\n",
       "    }\n",
       "\n",
       "    .dataframe thead th {\n",
       "        text-align: right;\n",
       "    }\n",
       "</style>\n",
       "<table border=\"1\" class=\"dataframe\">\n",
       "  <thead>\n",
       "    <tr style=\"text-align: right;\">\n",
       "      <th></th>\n",
       "      <th>TAP College Name</th>\n",
       "      <th>Academic Year</th>\n",
       "      <th>TAP Level of Study</th>\n",
       "      <th>TAP Sector Group</th>\n",
       "      <th>TAP Recipient Headcount</th>\n",
       "      <th>TAP Recipient FTEs</th>\n",
       "      <th>TAP Recipient Dollars</th>\n",
       "    </tr>\n",
       "  </thead>\n",
       "  <tbody>\n",
       "    <tr>\n",
       "      <th>0</th>\n",
       "      <td>CUNY BARUCH COLLEGE</td>\n",
       "      <td>2010</td>\n",
       "      <td>5 yr Undergrad</td>\n",
       "      <td>1-CUNY SR</td>\n",
       "      <td>105</td>\n",
       "      <td>72.75</td>\n",
       "      <td>304788.75</td>\n",
       "    </tr>\n",
       "    <tr>\n",
       "      <th>1</th>\n",
       "      <td>CUNY BARUCH COLLEGE</td>\n",
       "      <td>2010</td>\n",
       "      <td>4 yr Undergrad</td>\n",
       "      <td>1-CUNY SR</td>\n",
       "      <td>5714</td>\n",
       "      <td>4716.21</td>\n",
       "      <td>15899669.13</td>\n",
       "    </tr>\n",
       "    <tr>\n",
       "      <th>2</th>\n",
       "      <td>CUNY BARUCH COLLEGE</td>\n",
       "      <td>2011</td>\n",
       "      <td>5 yr Undergrad</td>\n",
       "      <td>1-CUNY SR</td>\n",
       "      <td>109</td>\n",
       "      <td>79.75</td>\n",
       "      <td>366793.75</td>\n",
       "    </tr>\n",
       "    <tr>\n",
       "      <th>3</th>\n",
       "      <td>CUNY BARUCH COLLEGE</td>\n",
       "      <td>2011</td>\n",
       "      <td>4 yr Undergrad</td>\n",
       "      <td>1-CUNY SR</td>\n",
       "      <td>5970</td>\n",
       "      <td>5049.04</td>\n",
       "      <td>18694666.97</td>\n",
       "    </tr>\n",
       "    <tr>\n",
       "      <th>4</th>\n",
       "      <td>CUNY BARUCH COLLEGE</td>\n",
       "      <td>2012</td>\n",
       "      <td>5 yr Undergrad</td>\n",
       "      <td>1-CUNY SR</td>\n",
       "      <td>125</td>\n",
       "      <td>85.00</td>\n",
       "      <td>392550.75</td>\n",
       "    </tr>\n",
       "  </tbody>\n",
       "</table>\n",
       "</div>"
      ],
      "text/plain": [
       "      TAP College Name  Academic Year TAP Level of Study TAP Sector Group  \\\n",
       "0  CUNY BARUCH COLLEGE           2010     5 yr Undergrad        1-CUNY SR   \n",
       "1  CUNY BARUCH COLLEGE           2010     4 yr Undergrad        1-CUNY SR   \n",
       "2  CUNY BARUCH COLLEGE           2011     5 yr Undergrad        1-CUNY SR   \n",
       "3  CUNY BARUCH COLLEGE           2011     4 yr Undergrad        1-CUNY SR   \n",
       "4  CUNY BARUCH COLLEGE           2012     5 yr Undergrad        1-CUNY SR   \n",
       "\n",
       "   TAP Recipient Headcount  TAP Recipient FTEs  TAP Recipient Dollars  \n",
       "0                      105               72.75              304788.75  \n",
       "1                     5714             4716.21            15899669.13  \n",
       "2                      109               79.75              366793.75  \n",
       "3                     5970             5049.04            18694666.97  \n",
       "4                      125               85.00              392550.75  "
      ]
     },
     "execution_count": 13,
     "metadata": {},
     "output_type": "execute_result"
    }
   ],
   "source": [
    "# Sort the data by the College Name and Academic Year, and reindex the rows\n",
    "\n",
    "cuny_tap_data = cuny_tap_data.sort_values([\"TAP College Name\", \"Academic Year\"])\n",
    "cuny_tap_data.reset_index(drop = True, inplace = True)\n",
    "cuny_tap_data.head()"
   ]
  },
  {
   "cell_type": "code",
   "execution_count": 14,
   "metadata": {},
   "outputs": [
    {
     "data": {
      "text/html": [
       "<div>\n",
       "<style scoped>\n",
       "    .dataframe tbody tr th:only-of-type {\n",
       "        vertical-align: middle;\n",
       "    }\n",
       "\n",
       "    .dataframe tbody tr th {\n",
       "        vertical-align: top;\n",
       "    }\n",
       "\n",
       "    .dataframe thead th {\n",
       "        text-align: right;\n",
       "    }\n",
       "</style>\n",
       "<table border=\"1\" class=\"dataframe\">\n",
       "  <thead>\n",
       "    <tr style=\"text-align: right;\">\n",
       "      <th></th>\n",
       "      <th>TAP College Name</th>\n",
       "      <th>Academic Year</th>\n",
       "      <th>TAP Level of Study</th>\n",
       "      <th>TAP Sector Group</th>\n",
       "      <th>TAP Recipient Headcount</th>\n",
       "      <th>TAP Recipient FTEs</th>\n",
       "      <th>TAP Recipient Dollars</th>\n",
       "    </tr>\n",
       "  </thead>\n",
       "  <tbody>\n",
       "    <tr>\n",
       "      <th>202</th>\n",
       "      <td>CUNY MANHATTAN CC</td>\n",
       "      <td>2015</td>\n",
       "      <td>2 yr Undergrad</td>\n",
       "      <td>2-CUNY CC</td>\n",
       "      <td>12602</td>\n",
       "      <td>8962.25</td>\n",
       "      <td>33935260.20</td>\n",
       "    </tr>\n",
       "    <tr>\n",
       "      <th>203</th>\n",
       "      <td>CUNY MANHATTAN CC</td>\n",
       "      <td>2016</td>\n",
       "      <td>2 yr Undergrad</td>\n",
       "      <td>2-CUNY CC</td>\n",
       "      <td>12101</td>\n",
       "      <td>8697.00</td>\n",
       "      <td>32618705.31</td>\n",
       "    </tr>\n",
       "    <tr>\n",
       "      <th>204</th>\n",
       "      <td>CUNY MANHATTAN CC</td>\n",
       "      <td>2017</td>\n",
       "      <td>2 yr Undergrad</td>\n",
       "      <td>2-CUNY CC</td>\n",
       "      <td>11895</td>\n",
       "      <td>8569.58</td>\n",
       "      <td>31888202.85</td>\n",
       "    </tr>\n",
       "  </tbody>\n",
       "</table>\n",
       "</div>"
      ],
      "text/plain": [
       "      TAP College Name  Academic Year TAP Level of Study TAP Sector Group  \\\n",
       "202  CUNY MANHATTAN CC           2015     2 yr Undergrad        2-CUNY CC   \n",
       "203  CUNY MANHATTAN CC           2016     2 yr Undergrad        2-CUNY CC   \n",
       "204  CUNY MANHATTAN CC           2017     2 yr Undergrad        2-CUNY CC   \n",
       "\n",
       "     TAP Recipient Headcount  TAP Recipient FTEs  TAP Recipient Dollars  \n",
       "202                    12602             8962.25            33935260.20  \n",
       "203                    12101             8697.00            32618705.31  \n",
       "204                    11895             8569.58            31888202.85  "
      ]
     },
     "execution_count": 14,
     "metadata": {},
     "output_type": "execute_result"
    }
   ],
   "source": [
    "cuny_tap_data[(cuny_tap_data[\"TAP Recipient Dollars\"] >= 30000000)]"
   ]
  },
  {
   "cell_type": "markdown",
   "metadata": {},
   "source": [
    "### 2. Single Variable Distribution Plots"
   ]
  },
  {
   "cell_type": "code",
   "execution_count": 15,
   "metadata": {},
   "outputs": [
    {
     "data": {
      "text/plain": [
       "Text(0, 0.5, '# of TAP grants received')"
      ]
     },
     "execution_count": 15,
     "metadata": {},
     "output_type": "execute_result"
    },
    {
     "data": {
      "image/png": "[encoded data removed]",
      "text/plain": [
       "<Figure size 432x288 with 1 Axes>"
      ]
     },
     "metadata": {
      "needs_background": "light"
     },
     "output_type": "display_data"
    }
   ],
   "source": [
    "cuny_tap_data[\"TAP College Name\"].value_counts().plot.bar()\n",
    "plt.title(\"Number of TAP grants received by each CUNY College from 2010 to 2019 Academic Year\")\n",
    "plt.xlabel(\"CUNY Colleges\")\n",
    "plt.ylabel(\"# of TAP grants received\")"
   ]
  },
  {
   "cell_type": "code",
   "execution_count": 16,
   "metadata": {},
   "outputs": [
    {
     "data": {
      "text/plain": [
       "Text(0, 0.5, '# of TAP grants received')"
      ]
     },
     "execution_count": 16,
     "metadata": {},
     "output_type": "execute_result"
    },
    {
     "data": {
      "image/png": "[encoded data removed]",
      "text/plain": [
       "<Figure size 432x288 with 1 Axes>"
      ]
     },
     "metadata": {
      "needs_background": "light"
     },
     "output_type": "display_data"
    }
   ],
   "source": [
    "cuny_tap_data[\"TAP Sector Group\"].value_counts().plot.bar()\n",
    "plt.title(\"Number of TAP grants received by CUNY Senior Colleges & Community Colleges from 2010 to 2019\")\n",
    "plt.xlabel(\"TAP Sector Group (CC - Community College, SR - Senior College)\")\n",
    "plt.ylabel(\"# of TAP grants received\")"
   ]
  },
  {
   "cell_type": "code",
   "execution_count": 17,
   "metadata": {},
   "outputs": [
    {
     "data": {
      "text/plain": [
       "Text(0, 0.5, 'Frequency')"
      ]
     },
     "execution_count": 17,
     "metadata": {},
     "output_type": "execute_result"
    },
    {
     "data": {
      "image/png": "[encoded data removed]",
      "text/plain": [
       "<Figure size 432x288 with 1 Axes>"
      ]
     },
     "metadata": {
      "needs_background": "light"
     },
     "output_type": "display_data"
    }
   ],
   "source": [
    "cuny_tap_data[\"TAP Recipient Headcount\"].hist()\n",
    "plt.title(\"Distribution of recipients (students) of TAP grants (2010-2019)\")\n",
    "plt.xlabel(\"Number of students\")\n",
    "plt.ylabel(\"Frequency\")"
   ]
  },
  {
   "cell_type": "code",
   "execution_count": 18,
   "metadata": {},
   "outputs": [
    {
     "data": {
      "text/plain": [
       "Text(0, 0.5, 'Frequency')"
      ]
     },
     "execution_count": 18,
     "metadata": {},
     "output_type": "execute_result"
    },
    {
     "data": {
      "image/png": "[encoded data removed]",
      "text/plain": [
       "<Figure size 432x288 with 1 Axes>"
      ]
     },
     "metadata": {
      "needs_background": "light"
     },
     "output_type": "display_data"
    }
   ],
   "source": [
    "cuny_tap_data[\"TAP Recipient Dollars\"].hist()\n",
    "plt.title(\"Distribution of TAP dollars awarded to the schools\")\n",
    "plt.xlabel(\"($)TAP Dollars (1e7 means n x 10^7)\")\n",
    "plt.ylabel(\"Frequency\")"
   ]
  },
  {
   "cell_type": "markdown",
   "metadata": {},
   "source": [
    "### 3. Multiple Variable Distribution Plots"
   ]
  },
  {
   "cell_type": "code",
   "execution_count": 19,
   "metadata": {
    "scrolled": false
   },
   "outputs": [
    {
     "data": {
      "text/plain": [
       "Text(0.5, 6.79999999999999, 'Academic Year (2010-2019)')"
      ]
     },
     "execution_count": 19,
     "metadata": {},
     "output_type": "execute_result"
    },
    {
     "data": {
      "image/png": "[encoded data removed]",
      "text/plain": [
       "<Figure size 864x432 with 1 Axes>"
      ]
     },
     "metadata": {
      "needs_background": "light"
     },
     "output_type": "display_data"
    }
   ],
   "source": [
    "# Plot the graph\n",
    "g=sns.relplot(x =\"Academic Year\", y =\"TAP Recipient Dollars\", kind =\"line\", hue =\"TAP Sector Group\", data=cuny_tap_data)\n",
    "\n",
    "# Resize the graph\n",
    "g.fig.set_size_inches(12,6)\n",
    "plt.xticks(rotation=45)\n",
    "\n",
    "# Title and axes labels added to the graph\n",
    "plt.title(\"TAP Amounts received by CUNY Senior Colleges & Community Colleges per year\")\n",
    "plt.ylabel(\"($)TAP Amounts Received(1e7 means n x 10^7)\")\n",
    "plt.xlabel(\"Academic Year (2010-2019)\")"
   ]
  },
  {
   "cell_type": "code",
   "execution_count": 20,
   "metadata": {},
   "outputs": [
    {
     "data": {
      "text/plain": [
       "Text(0.5, 6.79999999999999, 'CUNY College')"
      ]
     },
     "execution_count": 20,
     "metadata": {},
     "output_type": "execute_result"
    },
    {
     "data": {
      "image/png": "[encoded data removed]",
      "text/plain": [
       "<Figure size 1296x432 with 1 Axes>"
      ]
     },
     "metadata": {
      "needs_background": "light"
     },
     "output_type": "display_data"
    }
   ],
   "source": [
    "g=sns.catplot(x=\"TAP College Name\", y =\"TAP Recipient Headcount\", hue =\"TAP Sector Group\", kind =\"bar\", data=cuny_tap_data)\n",
    "\n",
    "# Resize the graph\n",
    "g.fig.set_size_inches(18,6)\n",
    "plt.xticks(rotation=90)\n",
    "\n",
    "# Title and axes labels added to the graph\n",
    "plt.title(\"Number of students who received TAP grants per CUNY College\")\n",
    "plt.ylabel(\"# of TAP Recipients\")\n",
    "plt.xlabel(\"CUNY College\")"
   ]
  },
  {
   "cell_type": "markdown",
   "metadata": {},
   "source": [
    "## Dummy variables"
   ]
  },
  {
   "cell_type": "code",
   "execution_count": 21,
   "metadata": {},
   "outputs": [],
   "source": [
    "#  create dummy variables from the qualitative columns\n",
    "cuny_tap_data_new = pd.get_dummies(cuny_tap_data, columns = [\"TAP Sector Group\", \"TAP Level of Study\"], drop_first = True)"
   ]
  },
  {
   "cell_type": "code",
   "execution_count": 22,
   "metadata": {},
   "outputs": [
    {
     "data": {
      "text/html": [
       "<div>\n",
       "<style scoped>\n",
       "    .dataframe tbody tr th:only-of-type {\n",
       "        vertical-align: middle;\n",
       "    }\n",
       "\n",
       "    .dataframe tbody tr th {\n",
       "        vertical-align: top;\n",
       "    }\n",
       "\n",
       "    .dataframe thead th {\n",
       "        text-align: right;\n",
       "    }\n",
       "</style>\n",
       "<table border=\"1\" class=\"dataframe\">\n",
       "  <thead>\n",
       "    <tr style=\"text-align: right;\">\n",
       "      <th></th>\n",
       "      <th>TAP College Name</th>\n",
       "      <th>Academic Year</th>\n",
       "      <th>TAP Recipient Headcount</th>\n",
       "      <th>TAP Recipient FTEs</th>\n",
       "      <th>TAP Recipient Dollars</th>\n",
       "      <th>TAP Sector Group_2-CUNY CC</th>\n",
       "      <th>TAP Level of Study_4 yr Undergrad</th>\n",
       "      <th>TAP Level of Study_5 yr Undergrad</th>\n",
       "    </tr>\n",
       "  </thead>\n",
       "  <tbody>\n",
       "    <tr>\n",
       "      <th>0</th>\n",
       "      <td>CUNY BARUCH COLLEGE</td>\n",
       "      <td>2010</td>\n",
       "      <td>105</td>\n",
       "      <td>72.75</td>\n",
       "      <td>304788.75</td>\n",
       "      <td>0</td>\n",
       "      <td>0</td>\n",
       "      <td>1</td>\n",
       "    </tr>\n",
       "    <tr>\n",
       "      <th>1</th>\n",
       "      <td>CUNY BARUCH COLLEGE</td>\n",
       "      <td>2010</td>\n",
       "      <td>5714</td>\n",
       "      <td>4716.21</td>\n",
       "      <td>15899669.13</td>\n",
       "      <td>0</td>\n",
       "      <td>1</td>\n",
       "      <td>0</td>\n",
       "    </tr>\n",
       "    <tr>\n",
       "      <th>2</th>\n",
       "      <td>CUNY BARUCH COLLEGE</td>\n",
       "      <td>2011</td>\n",
       "      <td>109</td>\n",
       "      <td>79.75</td>\n",
       "      <td>366793.75</td>\n",
       "      <td>0</td>\n",
       "      <td>0</td>\n",
       "      <td>1</td>\n",
       "    </tr>\n",
       "    <tr>\n",
       "      <th>3</th>\n",
       "      <td>CUNY BARUCH COLLEGE</td>\n",
       "      <td>2011</td>\n",
       "      <td>5970</td>\n",
       "      <td>5049.04</td>\n",
       "      <td>18694666.97</td>\n",
       "      <td>0</td>\n",
       "      <td>1</td>\n",
       "      <td>0</td>\n",
       "    </tr>\n",
       "    <tr>\n",
       "      <th>4</th>\n",
       "      <td>CUNY BARUCH COLLEGE</td>\n",
       "      <td>2012</td>\n",
       "      <td>125</td>\n",
       "      <td>85.00</td>\n",
       "      <td>392550.75</td>\n",
       "      <td>0</td>\n",
       "      <td>0</td>\n",
       "      <td>1</td>\n",
       "    </tr>\n",
       "  </tbody>\n",
       "</table>\n",
       "</div>"
      ],
      "text/plain": [
       "      TAP College Name  Academic Year  TAP Recipient Headcount  \\\n",
       "0  CUNY BARUCH COLLEGE           2010                      105   \n",
       "1  CUNY BARUCH COLLEGE           2010                     5714   \n",
       "2  CUNY BARUCH COLLEGE           2011                      109   \n",
       "3  CUNY BARUCH COLLEGE           2011                     5970   \n",
       "4  CUNY BARUCH COLLEGE           2012                      125   \n",
       "\n",
       "   TAP Recipient FTEs  TAP Recipient Dollars  TAP Sector Group_2-CUNY CC  \\\n",
       "0               72.75              304788.75                           0   \n",
       "1             4716.21            15899669.13                           0   \n",
       "2               79.75              366793.75                           0   \n",
       "3             5049.04            18694666.97                           0   \n",
       "4               85.00              392550.75                           0   \n",
       "\n",
       "   TAP Level of Study_4 yr Undergrad  TAP Level of Study_5 yr Undergrad  \n",
       "0                                  0                                  1  \n",
       "1                                  1                                  0  \n",
       "2                                  0                                  1  \n",
       "3                                  1                                  0  \n",
       "4                                  0                                  1  "
      ]
     },
     "execution_count": 22,
     "metadata": {},
     "output_type": "execute_result"
    }
   ],
   "source": [
    "cuny_tap_data_new.head()"
   ]
  },
  {
   "cell_type": "markdown",
   "metadata": {},
   "source": [
    "## 1st Data - This has x as it's independent variables and y as the dependent variable (TAP Recipient Dollars)"
   ]
  },
  {
   "cell_type": "code",
   "execution_count": 23,
   "metadata": {},
   "outputs": [],
   "source": [
    "# create a new DataFrame using TAP Recipient Headcount,  TAP Recipient FTEs,\n",
    "# TAP Sector Group_2-CUNY CC, TAP Level of Study_4 yr Undergrad, and \n",
    "#  TAP Level of Study_5 yr Undergrad as independent variables\n",
    "\n",
    "x = cuny_tap_data_new.drop(columns = [\"TAP College Name\", \"Academic Year\", \"TAP Recipient Dollars\"])"
   ]
  },
  {
   "cell_type": "code",
   "execution_count": 24,
   "metadata": {},
   "outputs": [
    {
     "data": {
      "text/html": [
       "<div>\n",
       "<style scoped>\n",
       "    .dataframe tbody tr th:only-of-type {\n",
       "        vertical-align: middle;\n",
       "    }\n",
       "\n",
       "    .dataframe tbody tr th {\n",
       "        vertical-align: top;\n",
       "    }\n",
       "\n",
       "    .dataframe thead th {\n",
       "        text-align: right;\n",
       "    }\n",
       "</style>\n",
       "<table border=\"1\" class=\"dataframe\">\n",
       "  <thead>\n",
       "    <tr style=\"text-align: right;\">\n",
       "      <th></th>\n",
       "      <th>TAP Recipient Headcount</th>\n",
       "      <th>TAP Recipient FTEs</th>\n",
       "      <th>TAP Sector Group_2-CUNY CC</th>\n",
       "      <th>TAP Level of Study_4 yr Undergrad</th>\n",
       "      <th>TAP Level of Study_5 yr Undergrad</th>\n",
       "    </tr>\n",
       "  </thead>\n",
       "  <tbody>\n",
       "    <tr>\n",
       "      <th>0</th>\n",
       "      <td>105</td>\n",
       "      <td>72.75</td>\n",
       "      <td>0</td>\n",
       "      <td>0</td>\n",
       "      <td>1</td>\n",
       "    </tr>\n",
       "    <tr>\n",
       "      <th>1</th>\n",
       "      <td>5714</td>\n",
       "      <td>4716.21</td>\n",
       "      <td>0</td>\n",
       "      <td>1</td>\n",
       "      <td>0</td>\n",
       "    </tr>\n",
       "    <tr>\n",
       "      <th>2</th>\n",
       "      <td>109</td>\n",
       "      <td>79.75</td>\n",
       "      <td>0</td>\n",
       "      <td>0</td>\n",
       "      <td>1</td>\n",
       "    </tr>\n",
       "    <tr>\n",
       "      <th>3</th>\n",
       "      <td>5970</td>\n",
       "      <td>5049.04</td>\n",
       "      <td>0</td>\n",
       "      <td>1</td>\n",
       "      <td>0</td>\n",
       "    </tr>\n",
       "    <tr>\n",
       "      <th>4</th>\n",
       "      <td>125</td>\n",
       "      <td>85.00</td>\n",
       "      <td>0</td>\n",
       "      <td>0</td>\n",
       "      <td>1</td>\n",
       "    </tr>\n",
       "  </tbody>\n",
       "</table>\n",
       "</div>"
      ],
      "text/plain": [
       "   TAP Recipient Headcount  TAP Recipient FTEs  TAP Sector Group_2-CUNY CC  \\\n",
       "0                      105               72.75                           0   \n",
       "1                     5714             4716.21                           0   \n",
       "2                      109               79.75                           0   \n",
       "3                     5970             5049.04                           0   \n",
       "4                      125               85.00                           0   \n",
       "\n",
       "   TAP Level of Study_4 yr Undergrad  TAP Level of Study_5 yr Undergrad  \n",
       "0                                  0                                  1  \n",
       "1                                  1                                  0  \n",
       "2                                  0                                  1  \n",
       "3                                  1                                  0  \n",
       "4                                  0                                  1  "
      ]
     },
     "execution_count": 24,
     "metadata": {},
     "output_type": "execute_result"
    }
   ],
   "source": [
    "x.head()"
   ]
  },
  {
   "cell_type": "code",
   "execution_count": 25,
   "metadata": {},
   "outputs": [
    {
     "data": {
      "text/plain": [
       "0      304788.75\n",
       "1    15899669.13\n",
       "2      366793.75\n",
       "3    18694666.97\n",
       "4      392550.75\n",
       "Name: TAP Recipient Dollars, dtype: float64"
      ]
     },
     "execution_count": 25,
     "metadata": {},
     "output_type": "execute_result"
    }
   ],
   "source": [
    "# create a new Series of the dependent variable\n",
    "\n",
    "y = cuny_tap_data_new[\"TAP Recipient Dollars\"]\n",
    "y.head()"
   ]
  },
  {
   "cell_type": "markdown",
   "metadata": {},
   "source": [
    "### split the first data into 80% training data and 20% testing data\n"
   ]
  },
  {
   "cell_type": "code",
   "execution_count": 26,
   "metadata": {},
   "outputs": [],
   "source": [
    "x_train, x_test, y_train, y_test = train_test_split(x, y, test_size=0.2)"
   ]
  },
  {
   "cell_type": "code",
   "execution_count": 27,
   "metadata": {},
   "outputs": [
    {
     "data": {
      "text/html": [
       "<div>\n",
       "<style scoped>\n",
       "    .dataframe tbody tr th:only-of-type {\n",
       "        vertical-align: middle;\n",
       "    }\n",
       "\n",
       "    .dataframe tbody tr th {\n",
       "        vertical-align: top;\n",
       "    }\n",
       "\n",
       "    .dataframe thead th {\n",
       "        text-align: right;\n",
       "    }\n",
       "</style>\n",
       "<table border=\"1\" class=\"dataframe\">\n",
       "  <thead>\n",
       "    <tr style=\"text-align: right;\">\n",
       "      <th></th>\n",
       "      <th>TAP Recipient Headcount</th>\n",
       "      <th>TAP Recipient FTEs</th>\n",
       "      <th>TAP Sector Group_2-CUNY CC</th>\n",
       "      <th>TAP Level of Study_4 yr Undergrad</th>\n",
       "      <th>TAP Level of Study_5 yr Undergrad</th>\n",
       "    </tr>\n",
       "  </thead>\n",
       "  <tbody>\n",
       "    <tr>\n",
       "      <th>17</th>\n",
       "      <td>6379</td>\n",
       "      <td>5206.00</td>\n",
       "      <td>0</td>\n",
       "      <td>1</td>\n",
       "      <td>0</td>\n",
       "    </tr>\n",
       "    <tr>\n",
       "      <th>315</th>\n",
       "      <td>3715</td>\n",
       "      <td>2936.17</td>\n",
       "      <td>0</td>\n",
       "      <td>1</td>\n",
       "      <td>0</td>\n",
       "    </tr>\n",
       "    <tr>\n",
       "      <th>143</th>\n",
       "      <td>7392</td>\n",
       "      <td>6176.50</td>\n",
       "      <td>0</td>\n",
       "      <td>1</td>\n",
       "      <td>0</td>\n",
       "    </tr>\n",
       "    <tr>\n",
       "      <th>231</th>\n",
       "      <td>1480</td>\n",
       "      <td>1052.21</td>\n",
       "      <td>0</td>\n",
       "      <td>0</td>\n",
       "      <td>0</td>\n",
       "    </tr>\n",
       "    <tr>\n",
       "      <th>176</th>\n",
       "      <td>7843</td>\n",
       "      <td>6711.89</td>\n",
       "      <td>0</td>\n",
       "      <td>1</td>\n",
       "      <td>0</td>\n",
       "    </tr>\n",
       "  </tbody>\n",
       "</table>\n",
       "</div>"
      ],
      "text/plain": [
       "     TAP Recipient Headcount  TAP Recipient FTEs  TAP Sector Group_2-CUNY CC  \\\n",
       "17                      6379             5206.00                           0   \n",
       "315                     3715             2936.17                           0   \n",
       "143                     7392             6176.50                           0   \n",
       "231                     1480             1052.21                           0   \n",
       "176                     7843             6711.89                           0   \n",
       "\n",
       "     TAP Level of Study_4 yr Undergrad  TAP Level of Study_5 yr Undergrad  \n",
       "17                                   1                                  0  \n",
       "315                                  1                                  0  \n",
       "143                                  1                                  0  \n",
       "231                                  0                                  0  \n",
       "176                                  1                                  0  "
      ]
     },
     "execution_count": 27,
     "metadata": {},
     "output_type": "execute_result"
    }
   ],
   "source": [
    "x_train.head()"
   ]
  },
  {
   "cell_type": "code",
   "execution_count": 28,
   "metadata": {},
   "outputs": [
    {
     "data": {
      "text/plain": [
       "17     20074153.97\n",
       "315    11371962.29\n",
       "143    22895182.95\n",
       "231     3992486.14\n",
       "176    24785370.76\n",
       "Name: TAP Recipient Dollars, dtype: float64"
      ]
     },
     "execution_count": 28,
     "metadata": {},
     "output_type": "execute_result"
    }
   ],
   "source": [
    "y_train.head()"
   ]
  },
  {
   "cell_type": "markdown",
   "metadata": {},
   "source": [
    "## 2nd Data - This has x2 as it's independent variables and y2 as the dependent variable (TAP Recipient Dollars)\n"
   ]
  },
  {
   "cell_type": "markdown",
   "metadata": {},
   "source": [
    "Create a new DataFrame dropping some of the independent variables from the first data. This can help us \n",
    "have an insight into which parameter/parameters(independent variable(s)) when used with all the models \n",
    "can get the best predictions for the data"
   ]
  },
  {
   "cell_type": "code",
   "execution_count": 29,
   "metadata": {
    "scrolled": false
   },
   "outputs": [
    {
     "data": {
      "text/html": [
       "<div>\n",
       "<style scoped>\n",
       "    .dataframe tbody tr th:only-of-type {\n",
       "        vertical-align: middle;\n",
       "    }\n",
       "\n",
       "    .dataframe tbody tr th {\n",
       "        vertical-align: top;\n",
       "    }\n",
       "\n",
       "    .dataframe thead th {\n",
       "        text-align: right;\n",
       "    }\n",
       "</style>\n",
       "<table border=\"1\" class=\"dataframe\">\n",
       "  <thead>\n",
       "    <tr style=\"text-align: right;\">\n",
       "      <th></th>\n",
       "      <th>TAP Sector Group_2-CUNY CC</th>\n",
       "      <th>TAP Level of Study_4 yr Undergrad</th>\n",
       "      <th>TAP Level of Study_5 yr Undergrad</th>\n",
       "    </tr>\n",
       "  </thead>\n",
       "  <tbody>\n",
       "    <tr>\n",
       "      <th>0</th>\n",
       "      <td>0</td>\n",
       "      <td>0</td>\n",
       "      <td>1</td>\n",
       "    </tr>\n",
       "    <tr>\n",
       "      <th>1</th>\n",
       "      <td>0</td>\n",
       "      <td>1</td>\n",
       "      <td>0</td>\n",
       "    </tr>\n",
       "    <tr>\n",
       "      <th>2</th>\n",
       "      <td>0</td>\n",
       "      <td>0</td>\n",
       "      <td>1</td>\n",
       "    </tr>\n",
       "    <tr>\n",
       "      <th>3</th>\n",
       "      <td>0</td>\n",
       "      <td>1</td>\n",
       "      <td>0</td>\n",
       "    </tr>\n",
       "    <tr>\n",
       "      <th>4</th>\n",
       "      <td>0</td>\n",
       "      <td>0</td>\n",
       "      <td>1</td>\n",
       "    </tr>\n",
       "  </tbody>\n",
       "</table>\n",
       "</div>"
      ],
      "text/plain": [
       "   TAP Sector Group_2-CUNY CC  TAP Level of Study_4 yr Undergrad  \\\n",
       "0                           0                                  0   \n",
       "1                           0                                  1   \n",
       "2                           0                                  0   \n",
       "3                           0                                  1   \n",
       "4                           0                                  0   \n",
       "\n",
       "   TAP Level of Study_5 yr Undergrad  \n",
       "0                                  1  \n",
       "1                                  0  \n",
       "2                                  1  \n",
       "3                                  0  \n",
       "4                                  1  "
      ]
     },
     "execution_count": 29,
     "metadata": {},
     "output_type": "execute_result"
    }
   ],
   "source": [
    "x2 = cuny_tap_data_new.drop(columns = [\"TAP College Name\", \"Academic Year\", \"TAP Recipient Dollars\", \n",
    "                                       \"TAP Recipient FTEs\", \"TAP Recipient Headcount\"])\n",
    "x2.head()"
   ]
  },
  {
   "cell_type": "code",
   "execution_count": 30,
   "metadata": {},
   "outputs": [
    {
     "data": {
      "text/plain": [
       "0      304788.75\n",
       "1    15899669.13\n",
       "2      366793.75\n",
       "3    18694666.97\n",
       "4      392550.75\n",
       "Name: TAP Recipient Dollars, dtype: float64"
      ]
     },
     "execution_count": 30,
     "metadata": {},
     "output_type": "execute_result"
    }
   ],
   "source": [
    "# create a new Series of the dependent variable\n",
    "y2 = cuny_tap_data_new[\"TAP Recipient Dollars\"]\n",
    "y2.head()"
   ]
  },
  {
   "cell_type": "markdown",
   "metadata": {},
   "source": [
    "### split the second data into 80% training data and 20% testing data\n"
   ]
  },
  {
   "cell_type": "code",
   "execution_count": 31,
   "metadata": {},
   "outputs": [],
   "source": [
    "x2_train, x2_test, y2_train, y2_test = train_test_split(x2, y2, test_size=0.2)"
   ]
  },
  {
   "cell_type": "markdown",
   "metadata": {},
   "source": [
    "## Linear Regression Model"
   ]
  },
  {
   "cell_type": "markdown",
   "metadata": {},
   "source": [
    "Apply Linear Regression model on the **First Data** which has ***TAP Recipient Headcount, TAP Recipient FTEs, TAP Sector Group_2-CUNY CC, TAP Level of Study_4 yr Undergrad and TAP Level of Study_5 yr Undergrad*** as the **Independent variables**"
   ]
  },
  {
   "cell_type": "code",
   "execution_count": 32,
   "metadata": {},
   "outputs": [
    {
     "data": {
      "text/plain": [
       "LinearRegression()"
      ]
     },
     "execution_count": 32,
     "metadata": {},
     "output_type": "execute_result"
    }
   ],
   "source": [
    "# Initialize the linear regression model\n",
    "linear_model1 = LinearRegression()\n",
    "\n",
    "# fit the model to the training data\n",
    "linear_model1.fit(x_train, y_train)"
   ]
  },
  {
   "cell_type": "code",
   "execution_count": 33,
   "metadata": {},
   "outputs": [],
   "source": [
    "# use this linear regression model to make predictions for the test data\n",
    "y_test_preds_lin = linear_model1.predict(x_test)"
   ]
  },
  {
   "cell_type": "code",
   "execution_count": 34,
   "metadata": {},
   "outputs": [
    {
     "data": {
      "text/plain": [
       "1149734107513.9568"
      ]
     },
     "execution_count": 34,
     "metadata": {},
     "output_type": "execute_result"
    }
   ],
   "source": [
    "# compute the mean squared error of the predictions for the test data\n",
    "mean_squared_error(y_test_preds_lin, y_test)"
   ]
  },
  {
   "cell_type": "code",
   "execution_count": 35,
   "metadata": {},
   "outputs": [],
   "source": [
    "# use this linear regression model to make predictions for the train data\n",
    "y_train_preds_lin = linear_model1.predict(x_train)"
   ]
  },
  {
   "cell_type": "code",
   "execution_count": 36,
   "metadata": {},
   "outputs": [
    {
     "data": {
      "text/plain": [
       "822345181460.4514"
      ]
     },
     "execution_count": 36,
     "metadata": {},
     "output_type": "execute_result"
    }
   ],
   "source": [
    "# compute the mean squared error of the predictions for the train data\n",
    "mean_squared_error(y_train_preds_lin, y_train)"
   ]
  },
  {
   "cell_type": "markdown",
   "metadata": {},
   "source": [
    "\n",
    "\n",
    "MSE test: 1149734107513  \n",
    "MSE train: 822345181460\n",
    "\n",
    "\n",
    "---> Overfitting"
   ]
  },
  {
   "cell_type": "markdown",
   "metadata": {},
   "source": [
    "**The plot below shows that the residuals have a normal distribution centered at 0 for this linear regression model**"
   ]
  },
  {
   "cell_type": "code",
   "execution_count": 37,
   "metadata": {},
   "outputs": [
    {
     "data": {
      "text/plain": [
       "<AxesSubplot:>"
      ]
     },
     "execution_count": 37,
     "metadata": {},
     "output_type": "execute_result"
    },
    {
     "data": {
      "image/png": "[encoded data removed]",
      "text/plain": [
       "<Figure size 432x288 with 1 Axes>"
      ]
     },
     "metadata": {
      "needs_background": "light"
     },
     "output_type": "display_data"
    }
   ],
   "source": [
    "pd.Series(y_test_preds_lin - y_test).hist()"
   ]
  },
  {
   "cell_type": "markdown",
   "metadata": {},
   "source": [
    "Apply Linear Regression Model on the **Second Data** which has ***TAP Sector Group_2-CUNY CC, TAP Level of Study_4 yr Undergrad and TAP Level of Study_5 yr Undergrad*** as the **Independent variables**.\n",
    "\n",
    "This data has all the Independent variables in the first data with the exception of two that were dropped ***(TAP Recipient Headcount, TAP Recipient FTEs)***"
   ]
  },
  {
   "cell_type": "code",
   "execution_count": 39,
   "metadata": {},
   "outputs": [
    {
     "data": {
      "text/plain": [
       "LinearRegression()"
      ]
     },
     "execution_count": 39,
     "metadata": {},
     "output_type": "execute_result"
    }
   ],
   "source": [
    "# Initialize the linear regression model\n",
    "linear_model2 = LinearRegression()\n",
    "\n",
    "# fit the model to the training data\n",
    "linear_model2.fit(x2_train, y2_train)"
   ]
  },
  {
   "cell_type": "code",
   "execution_count": 40,
   "metadata": {},
   "outputs": [],
   "source": [
    "# use this linear regression model to make predictions for the test data\n",
    "y2_test_preds_lin = linear_model2.predict(x2_test)"
   ]
  },
  {
   "cell_type": "code",
   "execution_count": 41,
   "metadata": {},
   "outputs": [
    {
     "data": {
      "text/plain": [
       "21208883640773.24"
      ]
     },
     "execution_count": 41,
     "metadata": {},
     "output_type": "execute_result"
    }
   ],
   "source": [
    "# compute the mean squared error of the predictions for the test data\n",
    "mean_squared_error(y2_test_preds_lin, y2_test)"
   ]
  },
  {
   "cell_type": "code",
   "execution_count": 42,
   "metadata": {},
   "outputs": [],
   "source": [
    "# use this linear regression model to make predictions for the train data\n",
    "y2_train_preds_lin = linear_model2.predict(x2_train)"
   ]
  },
  {
   "cell_type": "code",
   "execution_count": 43,
   "metadata": {},
   "outputs": [
    {
     "data": {
      "text/plain": [
       "24142723267752.754"
      ]
     },
     "execution_count": 43,
     "metadata": {},
     "output_type": "execute_result"
    }
   ],
   "source": [
    "# compute the mean squared error of the predictions for the train data\n",
    "mean_squared_error(y2_train_preds_lin, y2_train)"
   ]
  },
  {
   "cell_type": "markdown",
   "metadata": {},
   "source": [
    "\n",
    "MSE test: 21208883640773\n",
    "\n",
    "MSE train: 24142723267752\n",
    "\n",
    " ---> Underfitting"
   ]
  },
  {
   "cell_type": "markdown",
   "metadata": {},
   "source": [
    "**The plot below shows that the residuals have a normal distribution close to 0 for this linear regression model**"
   ]
  },
  {
   "cell_type": "code",
   "execution_count": 77,
   "metadata": {},
   "outputs": [
    {
     "data": {
      "text/plain": [
       "<AxesSubplot:>"
      ]
     },
     "execution_count": 77,
     "metadata": {},
     "output_type": "execute_result"
    },
    {
     "data": {
      "image/png": "[encoded data removed]",
      "text/plain": [
       "<Figure size 432x288 with 1 Axes>"
      ]
     },
     "metadata": {
      "needs_background": "light"
     },
     "output_type": "display_data"
    }
   ],
   "source": [
    "pd.Series(y2_test_preds_lin - y2_test).hist()"
   ]
  },
  {
   "cell_type": "markdown",
   "metadata": {},
   "source": [
    "## Decision Tree Regression Model\n"
   ]
  },
  {
   "cell_type": "markdown",
   "metadata": {},
   "source": [
    "Apply Decision Tree model on the **First Data** which has ***TAP Recipient Headcount, TAP Recipient FTEs, TAP Sector Group_2-CUNY CC, TAP Level of Study_4 yr Undergrad and TAP Level of Study_5 yr Undergrad*** as the **Independent variables**"
   ]
  },
  {
   "cell_type": "code",
   "execution_count": 46,
   "metadata": {},
   "outputs": [
    {
     "data": {
      "text/plain": [
       "DecisionTreeRegressor(max_depth=5)"
      ]
     },
     "execution_count": 46,
     "metadata": {},
     "output_type": "execute_result"
    }
   ],
   "source": [
    "tree_model1 = DecisionTreeRegressor(max_depth = 5)\n",
    "tree_model1.fit(x_train, y_train)"
   ]
  },
  {
   "cell_type": "code",
   "execution_count": 47,
   "metadata": {},
   "outputs": [],
   "source": [
    "# use this decision tree model to make predictions for the test data\n",
    "y_test_preds_tree = tree_model1.predict(x_test)"
   ]
  },
  {
   "cell_type": "code",
   "execution_count": 48,
   "metadata": {},
   "outputs": [
    {
     "data": {
      "text/plain": [
       "2266726750991.017"
      ]
     },
     "execution_count": 48,
     "metadata": {},
     "output_type": "execute_result"
    }
   ],
   "source": [
    "# compute the mean squared error of the predictions for the test data\n",
    "mean_squared_error(y_test_preds_tree, y_test)"
   ]
  },
  {
   "cell_type": "code",
   "execution_count": 78,
   "metadata": {},
   "outputs": [],
   "source": [
    "# use this decision tree model to make predictions for the train data\n",
    "y_train_preds_tree = tree_model1.predict(x_train)"
   ]
  },
  {
   "cell_type": "code",
   "execution_count": 79,
   "metadata": {},
   "outputs": [
    {
     "data": {
      "text/plain": [
       "415824337884.2642"
      ]
     },
     "execution_count": 79,
     "metadata": {},
     "output_type": "execute_result"
    }
   ],
   "source": [
    "# compute the mean squared error of the predictions for the train data\n",
    "mean_squared_error(y_train_preds_tree, y_train)"
   ]
  },
  {
   "cell_type": "markdown",
   "metadata": {},
   "source": [
    "MSE test: 2266726750991\n",
    "\n",
    "MSE train: 415824337884\n",
    "\n",
    " ---> Overfitting"
   ]
  },
  {
   "cell_type": "code",
   "execution_count": 49,
   "metadata": {},
   "outputs": [
    {
     "name": "stdout",
     "output_type": "stream",
     "text": [
      "MSE for max depth 1 is 23064536358659.684\n",
      "MSE for max depth 2 is 10012131723173.025\n",
      "MSE for max depth 3 is 5243881939209.613\n",
      "MSE for max depth 4 is 2372911992936.909\n",
      "MSE for max depth 5 is 2263586136380.528\n",
      "MSE for max depth 6 is 2627786417305.44\n",
      "MSE for max depth 7 is 3561300486502.8564\n",
      "MSE for max depth 8 is 3194293319793.5894\n",
      "MSE for max depth 9 is 2541628289165.873\n"
     ]
    }
   ],
   "source": [
    "tree_model1_mses = []\n",
    "for i in range(1,10):\n",
    "    tree = DecisionTreeRegressor(max_depth = i)\n",
    "    tree.fit(x_train, y_train)\n",
    "    y_pred_tree = tree.predict(x_test)\n",
    "    mse = mean_squared_error(y_pred_tree, y_test)\n",
    "    tree_model1_mses.append(mse)\n",
    "    print(f\"MSE for max depth {i} is { tree_model1_mses[i-1]}\")\n"
   ]
  },
  {
   "cell_type": "code",
   "execution_count": 50,
   "metadata": {},
   "outputs": [
    {
     "data": {
      "text/plain": [
       "Text(0.5, 1.0, 'MSE of different max depths for the 1st data')"
      ]
     },
     "execution_count": 50,
     "metadata": {},
     "output_type": "execute_result"
    },
    {
     "data": {
      "image/png": "[encoded data removed]",
      "text/plain": [
       "<Figure size 432x288 with 1 Axes>"
      ]
     },
     "metadata": {
      "needs_background": "light"
     },
     "output_type": "display_data"
    }
   ],
   "source": [
    "plt.plot([1,2,3,4,5,6,7,8,9], tree_model1_mses)\n",
    "plt.xlabel(\"Maximum depths\")\n",
    "plt.ylabel(\"Mean Squared Error (MSE)\")\n",
    "plt.title(\"MSE of different max depths for the 1st data\")"
   ]
  },
  {
   "cell_type": "markdown",
   "metadata": {},
   "source": [
    "Apply Decision Tree model on the **Second Data** which has ***TAP Sector Group_2-CUNY CC, TAP Level of Study_4 yr Undergrad and TAP Level of Study_5 yr Undergrad*** as the **Independent variables**.\n",
    "\n",
    "This data has all the Independent variables in the first data with the exception of two that were dropped ***(TAP Recipient Headcount, TAP Recipient FTEs)***"
   ]
  },
  {
   "cell_type": "code",
   "execution_count": 51,
   "metadata": {},
   "outputs": [
    {
     "data": {
      "text/plain": [
       "DecisionTreeRegressor(max_depth=5)"
      ]
     },
     "execution_count": 51,
     "metadata": {},
     "output_type": "execute_result"
    }
   ],
   "source": [
    "tree_model2 = DecisionTreeRegressor(max_depth = 5)\n",
    "tree_model2.fit(x2_train, y2_train)"
   ]
  },
  {
   "cell_type": "code",
   "execution_count": 52,
   "metadata": {},
   "outputs": [],
   "source": [
    "# use this decision tree model to make predictions for the test data\n",
    "y2_test_preds_tree = tree_model2.predict(x2_test)"
   ]
  },
  {
   "cell_type": "code",
   "execution_count": 80,
   "metadata": {},
   "outputs": [
    {
     "data": {
      "text/plain": [
       "21208883640773.242"
      ]
     },
     "execution_count": 80,
     "metadata": {},
     "output_type": "execute_result"
    }
   ],
   "source": [
    "# compute the mean squared error of the predictions for the test data\n",
    "mean_squared_error(y2_test_preds_tree, y2_test)"
   ]
  },
  {
   "cell_type": "code",
   "execution_count": 83,
   "metadata": {},
   "outputs": [],
   "source": [
    "# use this decision tree model to make predictions for the train data\n",
    "y2_train_preds_tree = tree_model2.predict(x2_train)"
   ]
  },
  {
   "cell_type": "code",
   "execution_count": 84,
   "metadata": {},
   "outputs": [
    {
     "data": {
      "text/plain": [
       "24142723267752.75"
      ]
     },
     "execution_count": 84,
     "metadata": {},
     "output_type": "execute_result"
    }
   ],
   "source": [
    "# compute the mean squared error of the predictions for the train data\n",
    "mean_squared_error(y2_train_preds_tree, y2_train)"
   ]
  },
  {
   "cell_type": "markdown",
   "metadata": {},
   "source": [
    "MSE test: 21208883640773\n",
    "\n",
    "MSE train: 24142723267752\n",
    "\n",
    " ---> Underfitting"
   ]
  },
  {
   "cell_type": "code",
   "execution_count": 54,
   "metadata": {},
   "outputs": [
    {
     "name": "stdout",
     "output_type": "stream",
     "text": [
      "MSE for max depth 1 is 38648343377615.945\n",
      "MSE for max depth 2 is 32873788401507.312\n",
      "MSE for max depth 3 is 21208883640773.242\n",
      "MSE for max depth 4 is 21208883640773.24\n",
      "MSE for max depth 5 is 21208883640773.234\n",
      "MSE for max depth 6 is 21208883640773.234\n",
      "MSE for max depth 7 is 21208883640773.246\n",
      "MSE for max depth 8 is 21208883640773.24\n",
      "MSE for max depth 9 is 21208883640773.246\n"
     ]
    }
   ],
   "source": [
    "tree_model2_mses = []\n",
    "for i in range(1,10):\n",
    "    tree = DecisionTreeRegressor(max_depth = i)\n",
    "    tree.fit(x2_train, y2_train)\n",
    "    y2_pred_tree = tree.predict(x2_test)\n",
    "    mse = mean_squared_error(y2_pred_tree, y2_test)\n",
    "    tree_model2_mses.append(mse)\n",
    "    print(f\"MSE for max depth {i} is { tree_model2_mses[i-1]}\")\n"
   ]
  },
  {
   "cell_type": "code",
   "execution_count": 55,
   "metadata": {},
   "outputs": [
    {
     "data": {
      "text/plain": [
       "Text(0.5, 1.0, 'MSE of different max depths for the 2nd data')"
      ]
     },
     "execution_count": 55,
     "metadata": {},
     "output_type": "execute_result"
    },
    {
     "data": {
      "image/png": "[encoded data removed]",
      "text/plain": [
       "<Figure size 432x288 with 1 Axes>"
      ]
     },
     "metadata": {
      "needs_background": "light"
     },
     "output_type": "display_data"
    }
   ],
   "source": [
    "plt.plot([1,2,3,4,5,6,7,8,9], tree_model2_mses)\n",
    "plt.xlabel(\"Maximum depths\")\n",
    "plt.ylabel(\"Mean Squared Error (MSE)\")\n",
    "plt.title(\"MSE of different max depths for the 2nd data\")"
   ]
  },
  {
   "cell_type": "markdown",
   "metadata": {},
   "source": [
    "## K-Neighbours Regression Model\n"
   ]
  },
  {
   "cell_type": "markdown",
   "metadata": {},
   "source": [
    "Apply K-Neighbours Model on the **First Data** which has ***TAP Recipient Headcount, TAP Recipient FTEs, TAP Sector Group_2-CUNY CC, TAP Level of Study_4 yr Undergrad and TAP Level of Study_5 yr Undergrad*** as the **Independent variables**"
   ]
  },
  {
   "cell_type": "code",
   "execution_count": 56,
   "metadata": {},
   "outputs": [
    {
     "data": {
      "text/plain": [
       "KNeighborsRegressor(n_neighbors=3)"
      ]
     },
     "execution_count": 56,
     "metadata": {},
     "output_type": "execute_result"
    }
   ],
   "source": [
    "knn_model1 = KNeighborsRegressor(n_neighbors=3)\n",
    "knn_model1.fit(x_train, y_train)"
   ]
  },
  {
   "cell_type": "code",
   "execution_count": 57,
   "metadata": {},
   "outputs": [],
   "source": [
    "# use this kneighbors model to make predictions for the test data\n",
    "y_test_pred_knn = knn_model1.predict(x_test)"
   ]
  },
  {
   "cell_type": "code",
   "execution_count": 58,
   "metadata": {},
   "outputs": [
    {
     "data": {
      "text/plain": [
       "2630650751253.2124"
      ]
     },
     "execution_count": 58,
     "metadata": {},
     "output_type": "execute_result"
    }
   ],
   "source": [
    "# compute the mean squared error of the predictions for the test data\n",
    "mean_squared_error(y_test_pred_knn, y_test)"
   ]
  },
  {
   "cell_type": "code",
   "execution_count": 85,
   "metadata": {},
   "outputs": [],
   "source": [
    "# use this kneighbors model to make predictions for the train data\n",
    "y_train_pred_knn = knn_model1.predict(x_train)"
   ]
  },
  {
   "cell_type": "code",
   "execution_count": 86,
   "metadata": {},
   "outputs": [
    {
     "data": {
      "text/plain": [
       "561442347017.1001"
      ]
     },
     "execution_count": 86,
     "metadata": {},
     "output_type": "execute_result"
    }
   ],
   "source": [
    "# compute the mean squared error of the predictions for the train data\n",
    "mean_squared_error(y_train_pred_knn, y_train)"
   ]
  },
  {
   "cell_type": "markdown",
   "metadata": {},
   "source": [
    "MSE test: 2630650751253\n",
    "\n",
    "MSE train: 561442347017\n",
    "\n",
    " ---> Overfitting"
   ]
  },
  {
   "cell_type": "code",
   "execution_count": 59,
   "metadata": {},
   "outputs": [
    {
     "name": "stdout",
     "output_type": "stream",
     "text": [
      "MSE for k = 1 is 2962831398935.8467\n",
      "MSE for k = 2 is 2769742313203.735\n",
      "MSE for k = 3 is 2630650751253.2124\n",
      "MSE for k = 4 is 2667598818528.9785\n",
      "MSE for k = 5 is 2999954719547.1685\n",
      "MSE for k = 6 is 2880830931594.0273\n",
      "MSE for k = 7 is 2595139512740.6943\n",
      "MSE for k = 8 is 2769372775802.3203\n",
      "MSE for k = 9 is 2736316368963.574\n"
     ]
    }
   ],
   "source": [
    "knn_model1_mses = []\n",
    "for i in range(1,10):\n",
    "    knn = KNeighborsRegressor(n_neighbors = i)\n",
    "    knn.fit(x_train, y_train)\n",
    "    y_pred_knn = knn.predict(x_test)\n",
    "    mse = mean_squared_error(y_pred_knn, y_test)\n",
    "    knn_model1_mses.append(mse)\n",
    "    print(f\"MSE for k = {i} is { knn_model1_mses[i-1]}\")"
   ]
  },
  {
   "cell_type": "code",
   "execution_count": 60,
   "metadata": {},
   "outputs": [
    {
     "data": {
      "text/plain": [
       "Text(0.5, 1.0, 'MSE for diff. # of neighbors for the 1st data')"
      ]
     },
     "execution_count": 60,
     "metadata": {},
     "output_type": "execute_result"
    },
    {
     "data": {
      "image/png": "[encoded data removed]",
      "text/plain": [
       "<Figure size 432x288 with 1 Axes>"
      ]
     },
     "metadata": {
      "needs_background": "light"
     },
     "output_type": "display_data"
    }
   ],
   "source": [
    "plt.plot([1,2,3,4,5,6,7,8,9], knn_model1_mses)\n",
    "plt.xlabel(\"k\")\n",
    "plt.ylabel(\"Mean Squared Error(MSE)\")\n",
    "plt.title(\"MSE for diff. # of neighbors for the 1st data\")"
   ]
  },
  {
   "cell_type": "markdown",
   "metadata": {},
   "source": [
    "Apply K-Neighbours Model on the **Second Data** which has ***TAP Sector Group_2-CUNY CC, TAP Level of Study_4 yr Undergrad and TAP Level of Study_5 yr Undergrad*** as the **Independent variables**.\n",
    "\n",
    "This data has all the Independent variables in the first data with the exception of two that were dropped ***(TAP Recipient Headcount, TAP Recipient FTEs)***"
   ]
  },
  {
   "cell_type": "code",
   "execution_count": 61,
   "metadata": {},
   "outputs": [
    {
     "data": {
      "text/plain": [
       "KNeighborsRegressor(n_neighbors=6)"
      ]
     },
     "execution_count": 61,
     "metadata": {},
     "output_type": "execute_result"
    }
   ],
   "source": [
    "knn_model2 = KNeighborsRegressor(n_neighbors = 6)\n",
    "knn_model2.fit(x2_train, y2_train)"
   ]
  },
  {
   "cell_type": "code",
   "execution_count": 62,
   "metadata": {},
   "outputs": [],
   "source": [
    "# use this kneighbors model to make predictions for the test data\n",
    "y2_test_pred_knn = knn_model2.predict(x2_test)"
   ]
  },
  {
   "cell_type": "code",
   "execution_count": 63,
   "metadata": {},
   "outputs": [
    {
     "data": {
      "text/plain": [
       "26566832830376.12"
      ]
     },
     "execution_count": 63,
     "metadata": {},
     "output_type": "execute_result"
    }
   ],
   "source": [
    "# compute the mean squared error of the predictions for the test data\n",
    "mean_squared_error(y2_test_pred_knn, y2_test)"
   ]
  },
  {
   "cell_type": "code",
   "execution_count": 87,
   "metadata": {},
   "outputs": [],
   "source": [
    "# use this kneighbors model to make predictions for the train data\n",
    "y2_train_pred_knn = knn_model2.predict(x2_train)"
   ]
  },
  {
   "cell_type": "code",
   "execution_count": 89,
   "metadata": {},
   "outputs": [
    {
     "data": {
      "text/plain": [
       "25638290807674.242"
      ]
     },
     "execution_count": 89,
     "metadata": {},
     "output_type": "execute_result"
    }
   ],
   "source": [
    "# compute the mean squared error of the predictions for the train data\n",
    "mean_squared_error(y2_train_pred_knn, y2_train)"
   ]
  },
  {
   "cell_type": "markdown",
   "metadata": {},
   "source": [
    "MSE test: 26566832830376\n",
    "\n",
    "MSE train: 25638290807674\n",
    "\n",
    " ---> Overfitting but the difference is too small"
   ]
  },
  {
   "cell_type": "code",
   "execution_count": 64,
   "metadata": {},
   "outputs": [
    {
     "name": "stdout",
     "output_type": "stream",
     "text": [
      "MSE for k = 1 is 21915764998165.85\n",
      "MSE for k = 2 is 29262957808669.438\n",
      "MSE for k = 3 is 23178311277755.61\n",
      "MSE for k = 4 is 22688448744520.695\n",
      "MSE for k = 5 is 25265864997831.867\n",
      "MSE for k = 6 is 26566832830376.12\n",
      "MSE for k = 7 is 24115342282546.07\n",
      "MSE for k = 8 is 24803568963063.273\n",
      "MSE for k = 9 is 27617395787934.92\n"
     ]
    }
   ],
   "source": [
    "knn_model2_mses = []\n",
    "for i in range(1,10):\n",
    "    knn = KNeighborsRegressor(n_neighbors = i)\n",
    "    knn.fit(x2_train, y2_train)\n",
    "    y2_pred_knn = knn.predict(x2_test)\n",
    "    mse = mean_squared_error(y2_pred_knn, y2_test)\n",
    "    knn_model2_mses.append(mse)\n",
    "    print(f\"MSE for k = {i} is { knn_model2_mses[i-1]}\")"
   ]
  },
  {
   "cell_type": "code",
   "execution_count": 65,
   "metadata": {},
   "outputs": [
    {
     "data": {
      "text/plain": [
       "Text(0.5, 1.0, 'MSE for diff. # of neighbors for the 2nd data')"
      ]
     },
     "execution_count": 65,
     "metadata": {},
     "output_type": "execute_result"
    },
    {
     "data": {
      "image/png": "[encoded data removed]",
      "text/plain": [
       "<Figure size 432x288 with 1 Axes>"
      ]
     },
     "metadata": {
      "needs_background": "light"
     },
     "output_type": "display_data"
    }
   ],
   "source": [
    "plt.plot([1,2,3,4,5,6,7,8,9], knn_model2_mses)\n",
    "plt.xlabel(\"k\")\n",
    "plt.ylabel(\"MSE\")\n",
    "plt.title(\"MSE for diff. # of neighbors for the 2nd data\")"
   ]
  },
  {
   "cell_type": "markdown",
   "metadata": {},
   "source": [
    "## Logistic Regression Model (Classification)\n"
   ]
  },
  {
   "cell_type": "code",
   "execution_count": 66,
   "metadata": {},
   "outputs": [],
   "source": [
    "x3 = cuny_tap_data_new.drop(columns = [\"TAP College Name\", \"Academic Year\", \"TAP Sector Group_2-CUNY CC\", \\\n",
    "                                      \"TAP Level of Study_4 yr Undergrad\", \"TAP Level of Study_5 yr Undergrad\"])"
   ]
  },
  {
   "cell_type": "code",
   "execution_count": 67,
   "metadata": {},
   "outputs": [],
   "source": [
    "y3 = cuny_tap_data_new[\"TAP Sector Group_2-CUNY CC\"]"
   ]
  },
  {
   "cell_type": "code",
   "execution_count": 97,
   "metadata": {},
   "outputs": [],
   "source": [
    "x3_train, x3_test, y3_train, y3_test = train_test_split(x3, y3, test_size=0.2)"
   ]
  },
  {
   "cell_type": "code",
   "execution_count": 98,
   "metadata": {},
   "outputs": [
    {
     "data": {
      "text/html": [
       "<div>\n",
       "<style scoped>\n",
       "    .dataframe tbody tr th:only-of-type {\n",
       "        vertical-align: middle;\n",
       "    }\n",
       "\n",
       "    .dataframe tbody tr th {\n",
       "        vertical-align: top;\n",
       "    }\n",
       "\n",
       "    .dataframe thead th {\n",
       "        text-align: right;\n",
       "    }\n",
       "</style>\n",
       "<table border=\"1\" class=\"dataframe\">\n",
       "  <thead>\n",
       "    <tr style=\"text-align: right;\">\n",
       "      <th></th>\n",
       "      <th>TAP Recipient Headcount</th>\n",
       "      <th>TAP Recipient FTEs</th>\n",
       "      <th>TAP Recipient Dollars</th>\n",
       "    </tr>\n",
       "  </thead>\n",
       "  <tbody>\n",
       "    <tr>\n",
       "      <th>55</th>\n",
       "      <td>5864</td>\n",
       "      <td>4822.29</td>\n",
       "      <td>18153387.62</td>\n",
       "    </tr>\n",
       "    <tr>\n",
       "      <th>123</th>\n",
       "      <td>3334</td>\n",
       "      <td>2271.79</td>\n",
       "      <td>8468070.47</td>\n",
       "    </tr>\n",
       "    <tr>\n",
       "      <th>17</th>\n",
       "      <td>6379</td>\n",
       "      <td>5206.00</td>\n",
       "      <td>20074153.97</td>\n",
       "    </tr>\n",
       "    <tr>\n",
       "      <th>232</th>\n",
       "      <td>29</td>\n",
       "      <td>19.50</td>\n",
       "      <td>78773.00</td>\n",
       "    </tr>\n",
       "    <tr>\n",
       "      <th>251</th>\n",
       "      <td>4037</td>\n",
       "      <td>2770.67</td>\n",
       "      <td>11460620.21</td>\n",
       "    </tr>\n",
       "  </tbody>\n",
       "</table>\n",
       "</div>"
      ],
      "text/plain": [
       "     TAP Recipient Headcount  TAP Recipient FTEs  TAP Recipient Dollars\n",
       "55                      5864             4822.29            18153387.62\n",
       "123                     3334             2271.79             8468070.47\n",
       "17                      6379             5206.00            20074153.97\n",
       "232                       29               19.50               78773.00\n",
       "251                     4037             2770.67            11460620.21"
      ]
     },
     "execution_count": 98,
     "metadata": {},
     "output_type": "execute_result"
    }
   ],
   "source": [
    "x3_train.head()"
   ]
  },
  {
   "cell_type": "code",
   "execution_count": 99,
   "metadata": {},
   "outputs": [
    {
     "data": {
      "text/plain": [
       "0    0\n",
       "1    0\n",
       "2    0\n",
       "3    0\n",
       "4    0\n",
       "Name: TAP Sector Group_2-CUNY CC, dtype: uint8"
      ]
     },
     "execution_count": 99,
     "metadata": {},
     "output_type": "execute_result"
    }
   ],
   "source": [
    "y3.head()"
   ]
  },
  {
   "cell_type": "code",
   "execution_count": 100,
   "metadata": {},
   "outputs": [
    {
     "data": {
      "text/plain": [
       "LogisticRegression()"
      ]
     },
     "execution_count": 100,
     "metadata": {},
     "output_type": "execute_result"
    }
   ],
   "source": [
    "logit_rg_model = LogisticRegression()\n",
    "logit_rg_model.fit(x3_train, y3_train)"
   ]
  },
  {
   "cell_type": "code",
   "execution_count": 101,
   "metadata": {},
   "outputs": [],
   "source": [
    "y3_test_preds_logit = logit_rg_model.predict(x3_test)"
   ]
  },
  {
   "cell_type": "code",
   "execution_count": 102,
   "metadata": {},
   "outputs": [
    {
     "data": {
      "text/plain": [
       "0.8333333333333334"
      ]
     },
     "execution_count": 102,
     "metadata": {},
     "output_type": "execute_result"
    }
   ],
   "source": [
    "accuracy_score(y3_test, y3_test_preds_logit)"
   ]
  },
  {
   "cell_type": "code",
   "execution_count": 103,
   "metadata": {},
   "outputs": [
    {
     "data": {
      "text/plain": [
       "<AxesSubplot:xlabel='TAP Recipient Headcount', ylabel='TAP Sector Group_2-CUNY CC'>"
      ]
     },
     "execution_count": 103,
     "metadata": {},
     "output_type": "execute_result"
    },
    {
     "data": {
      "image/png": "[encoded data removed]",
      "text/plain": [
       "<Figure size 432x288 with 1 Axes>"
      ]
     },
     "metadata": {
      "needs_background": "light"
     },
     "output_type": "display_data"
    }
   ],
   "source": [
    "sns.regplot(x = \"TAP Recipient Headcount\" , y = y3, data = x3, logistic = True)"
   ]
  }
 ],
 "metadata": {
  "kernelspec": {
   "display_name": "Python 3",
   "language": "python",
   "name": "python3"
  },
  "language_info": {
   "codemirror_mode": {
    "name": "ipython",
    "version": 3
   },
   "file_extension": ".py",
   "mimetype": "text/x-python",
   "name": "python",
   "nbconvert_exporter": "python",
   "pygments_lexer": "ipython3",
   "version": "3.8.5"
  }
 },
 "nbformat": 4,
 "nbformat_minor": 4
}
